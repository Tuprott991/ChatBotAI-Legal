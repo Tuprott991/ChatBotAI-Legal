{
  "cells": [
    {
      "cell_type": "markdown",
      "metadata": {
        "id": "R4GTTkb7sy-K"
      },
      "source": [
        "**YOLO v4 - PyTorch - UDXLAV**"
      ]
    },
    {
      "cell_type": "markdown",
      "metadata": {
        "id": "5ZtdqDHWt-w4"
      },
      "source": [
        "# Step 01. Check the colab enviroment"
      ]
    },
    {
      "cell_type": "markdown",
      "metadata": {
        "id": "Jn7wDVWrxwmE"
      },
      "source": [
        "The GPUs available in Colab often include Nvidia K80s, T4s, P4s and P100s."
      ]
    },
    {
      "cell_type": "code",
      "execution_count": 1,
      "metadata": {
        "colab": {
          "base_uri": "https://localhost:8080/"
        },
        "id": "tbUvI-FzuDnW",
        "outputId": "60f60aec-11fc-481f-f561-20c7df16a68e"
      },
      "outputs": [
        {
          "data": {
            "text/plain": [
              "Traceback (most recent call last):\n",
              "  File \"c:\\Users\\Vatuk\\.vscode\\extensions\\ms-python.python-2024.22.0-win32-x64\\python_files\\python_server.py\", line 133, in exec_user_input\n",
              "    retval = callable_(user_input, user_globals)\n",
              "             ^^^^^^^^^^^^^^^^^^^^^^^^^^^^^^^^^^^\n",
              "  File \"<string>\", line 7\n",
              "    !cat /proc/meminfo\n",
              "    ^\n",
              "SyntaxError: invalid syntax\n",
              "\n"
            ]
          },
          "metadata": {},
          "output_type": "display_data"
        }
      ],
      "source": [
        "import tensorflow as tf\n",
        "print(tf.test.gpu_device_name())\n",
        "\n",
        "from tensorflow.python.client import device_lib\n",
        "print(device_lib.list_local_devices())\n",
        "\n",
        "!cat /proc/meminfo"
      ]
    },
    {
      "cell_type": "code",
      "execution_count": 2,
      "metadata": {
        "colab": {
          "base_uri": "https://localhost:8080/"
        },
        "id": "9r0Ab20Iu3iQ",
        "outputId": "672e9ea3-ea2c-4997-ea7e-f6a01984fb6f"
      },
      "outputs": [
        {
          "name": "stdout",
          "output_type": "stream",
          "text": [
            "0\n",
            "<torch.cuda.device object at 0x7f8e5d7b4050>\n",
            "1\n",
            "Tesla T4\n",
            "True\n",
            "Using device: cuda\n",
            "\n",
            "Tesla T4\n",
            "Memory Usage:\n",
            "Allocated: 0.0 GB\n",
            "Cached:    0.0 GB\n"
          ]
        },
        {
          "name": "stderr",
          "output_type": "stream",
          "text": [
            "/usr/local/lib/python3.7/dist-packages/torch/cuda/memory.py:393: FutureWarning: torch.cuda.memory_cached has been renamed to torch.cuda.memory_reserved\n",
            "  FutureWarning)\n"
          ]
        }
      ],
      "source": [
        "import torch\n",
        "\n",
        "print(torch.cuda.current_device())\n",
        "print(torch.cuda.device(0))\n",
        "print(torch.cuda.device_count())\n",
        "print(torch.cuda.get_device_name(0))\n",
        "print(torch.cuda.is_available())\n",
        "\n",
        "# setting device on GPU if available, else CPU\n",
        "device = torch.device('cuda' if torch.cuda.is_available() else 'cpu')\n",
        "print('Using device:', device)\n",
        "print()\n",
        "\n",
        "# additional info when using cuda\n",
        "if device.type == 'cuda':\n",
        "    print(torch.cuda.get_device_name(0))\n",
        "    print('Memory Usage:')\n",
        "    print('Allocated:', round(torch.cuda.memory_allocated(0)/1024**3,1), 'GB')\n",
        "    print('Cached:   ', round(torch.cuda.memory_cached(0)/1024**3,1), 'GB')"
      ]
    },
    {
      "cell_type": "markdown",
      "metadata": {
        "id": "kW_1LOkJsqRv"
      },
      "source": [
        "# Step 02. Mount drive"
      ]
    },
    {
      "cell_type": "code",
      "execution_count": 3,
      "metadata": {
        "colab": {
          "base_uri": "https://localhost:8080/"
        },
        "id": "tPgx3t2PG_xR",
        "outputId": "0af068db-a8d4-48cc-c2f1-9f85e8024795"
      },
      "outputs": [
        {
          "name": "stdout",
          "output_type": "stream",
          "text": [
            "Mounted at /content/gdrive\n"
          ]
        }
      ],
      "source": [
        "from google.colab import drive\n",
        "drive.mount('/content/gdrive')"
      ]
    },
    {
      "cell_type": "markdown",
      "metadata": {
        "id": "aG19VvbPs87D"
      },
      "source": [
        "# Step 03. Download YOLOv4 PyTorch repo"
      ]
    },
    {
      "cell_type": "code",
      "execution_count": 4,
      "metadata": {
        "colab": {
          "base_uri": "https://localhost:8080/"
        },
        "id": "-XWlYuAEHkgb",
        "outputId": "4052f047-2c4b-4206-c60e-5f70805a4420"
      },
      "outputs": [
        {
          "name": "stdout",
          "output_type": "stream",
          "text": [
            "/content/gdrive/My Drive\n",
            "mkdir: cannot create directory ‘colab’: File exists\n",
            "/content/gdrive/My Drive/colab\n",
            "Cloning into 'pytorch-YOLOv4'...\n",
            "remote: Enumerating objects: 1049, done.\u001b[K\n",
            "remote: Counting objects: 100% (6/6), done.\u001b[K\n",
            "remote: Compressing objects: 100% (6/6), done.\u001b[K\n",
            "remote: Total 1049 (delta 2), reused 0 (delta 0), pack-reused 1043\u001b[K\n",
            "Receiving objects: 100% (1049/1049), 2.39 MiB | 10.50 MiB/s, done.\n",
            "Resolving deltas: 100% (644/644), done.\n",
            "/content/gdrive/My Drive/colab/pytorch-YOLOv4\n"
          ]
        }
      ],
      "source": [
        "%cd /content/gdrive/My\\ Drive\n",
        "%mkdir colab\n",
        "%cd /content/gdrive/My\\ Drive/colab\n",
        "!rm -rf pytorch-YOLOv4\n",
        "!git clone https://github.com/Tianxiaomo/pytorch-YOLOv4\n",
        "%cd /content/gdrive/My\\ Drive/colab/pytorch-YOLOv4"
      ]
    },
    {
      "cell_type": "markdown",
      "metadata": {
        "id": "zPf_xIkEtEB9"
      },
      "source": [
        "# Step 04. Set up YOLOv4 PyTorch Environment"
      ]
    },
    {
      "cell_type": "code",
      "execution_count": 5,
      "metadata": {
        "colab": {
          "base_uri": "https://localhost:8080/",
          "height": 1000
        },
        "id": "YWOyZlTuI4qf",
        "outputId": "dd0e1e7b-2b02-416a-be87-e8ba5f3aac58"
      },
      "outputs": [
        {
          "name": "stdout",
          "output_type": "stream",
          "text": [
            "Looking in indexes: https://pypi.org/simple, https://us-python.pkg.dev/colab-wheels/public/simple/\n",
            "Collecting numpy==1.18.2\n",
            "  Downloading numpy-1.18.2-cp37-cp37m-manylinux1_x86_64.whl (20.2 MB)\n",
            "\u001b[K     |████████████████████████████████| 20.2 MB 1.3 MB/s \n",
            "\u001b[?25hCollecting torch==1.4.0\n",
            "  Downloading torch-1.4.0-cp37-cp37m-manylinux1_x86_64.whl (753.4 MB)\n",
            "\u001b[K     |████████████████████████████████| 753.4 MB 7.2 kB/s \n",
            "\u001b[?25hCollecting tensorboardX==2.0\n",
            "  Downloading tensorboardX-2.0-py2.py3-none-any.whl (195 kB)\n",
            "\u001b[K     |████████████████████████████████| 195 kB 73.9 MB/s \n",
            "\u001b[?25hCollecting scikit_image==0.16.2\n",
            "  Downloading scikit_image-0.16.2-cp37-cp37m-manylinux1_x86_64.whl (26.5 MB)\n",
            "\u001b[K     |████████████████████████████████| 26.5 MB 10.0 MB/s \n",
            "\u001b[?25hCollecting matplotlib==2.2.3\n",
            "  Downloading matplotlib-2.2.3-cp37-cp37m-manylinux1_x86_64.whl (12.6 MB)\n",
            "\u001b[K     |████████████████████████████████| 12.6 MB 73.7 MB/s \n",
            "\u001b[?25hCollecting tqdm==4.43.0\n",
            "  Downloading tqdm-4.43.0-py2.py3-none-any.whl (59 kB)\n",
            "\u001b[K     |████████████████████████████████| 59 kB 7.6 MB/s \n",
            "\u001b[?25hCollecting easydict==1.9\n",
            "  Downloading easydict-1.9.tar.gz (6.4 kB)\n",
            "Requirement already satisfied: Pillow==7.1.2 in /usr/local/lib/python3.7/dist-packages (from -r requirements.txt (line 8)) (7.1.2)\n",
            "Requirement already satisfied: opencv_python in /usr/local/lib/python3.7/dist-packages (from -r requirements.txt (line 9)) (4.6.0.66)\n",
            "Requirement already satisfied: pycocotools in /usr/local/lib/python3.7/dist-packages (from -r requirements.txt (line 10)) (2.0.6)\n",
            "Requirement already satisfied: protobuf>=3.8.0 in /usr/local/lib/python3.7/dist-packages (from tensorboardX==2.0->-r requirements.txt (line 3)) (3.19.6)\n",
            "Requirement already satisfied: six in /usr/local/lib/python3.7/dist-packages (from tensorboardX==2.0->-r requirements.txt (line 3)) (1.15.0)\n",
            "Requirement already satisfied: scipy>=0.19.0 in /usr/local/lib/python3.7/dist-packages (from scikit_image==0.16.2->-r requirements.txt (line 4)) (1.7.3)\n",
            "Requirement already satisfied: networkx>=2.0 in /usr/local/lib/python3.7/dist-packages (from scikit_image==0.16.2->-r requirements.txt (line 4)) (2.6.3)\n",
            "Requirement already satisfied: PyWavelets>=0.4.0 in /usr/local/lib/python3.7/dist-packages (from scikit_image==0.16.2->-r requirements.txt (line 4)) (1.3.0)\n",
            "Requirement already satisfied: imageio>=2.3.0 in /usr/local/lib/python3.7/dist-packages (from scikit_image==0.16.2->-r requirements.txt (line 4)) (2.9.0)\n",
            "Requirement already satisfied: cycler>=0.10 in /usr/local/lib/python3.7/dist-packages (from matplotlib==2.2.3->-r requirements.txt (line 5)) (0.11.0)\n",
            "Requirement already satisfied: kiwisolver>=1.0.1 in /usr/local/lib/python3.7/dist-packages (from matplotlib==2.2.3->-r requirements.txt (line 5)) (1.4.4)\n",
            "Requirement already satisfied: python-dateutil>=2.1 in /usr/local/lib/python3.7/dist-packages (from matplotlib==2.2.3->-r requirements.txt (line 5)) (2.8.2)\n",
            "Requirement already satisfied: pyparsing!=2.0.4,!=2.1.2,!=2.1.6,>=2.0.1 in /usr/local/lib/python3.7/dist-packages (from matplotlib==2.2.3->-r requirements.txt (line 5)) (3.0.9)\n",
            "Requirement already satisfied: pytz in /usr/local/lib/python3.7/dist-packages (from matplotlib==2.2.3->-r requirements.txt (line 5)) (2022.6)\n",
            "Requirement already satisfied: typing-extensions in /usr/local/lib/python3.7/dist-packages (from kiwisolver>=1.0.1->matplotlib==2.2.3->-r requirements.txt (line 5)) (4.1.1)\n",
            "Building wheels for collected packages: easydict\n",
            "  Building wheel for easydict (setup.py) ... \u001b[?25l\u001b[?25hdone\n",
            "  Created wheel for easydict: filename=easydict-1.9-py3-none-any.whl size=6360 sha256=28d9324330e59811897757ba48be73f202ce43086d5b194de889ad4152eb50f0\n",
            "  Stored in directory: /root/.cache/pip/wheels/88/96/68/c2be18e7406804be2e593e1c37845f2dd20ac2ce1381ce40b0\n",
            "Successfully built easydict\n",
            "Installing collected packages: numpy, matplotlib, tqdm, torch, tensorboardX, scikit-image, easydict\n",
            "  Attempting uninstall: numpy\n",
            "    Found existing installation: numpy 1.21.6\n",
            "    Uninstalling numpy-1.21.6:\n",
            "      Successfully uninstalled numpy-1.21.6\n",
            "  Attempting uninstall: matplotlib\n",
            "    Found existing installation: matplotlib 3.2.2\n",
            "    Uninstalling matplotlib-3.2.2:\n",
            "      Successfully uninstalled matplotlib-3.2.2\n",
            "  Attempting uninstall: tqdm\n",
            "    Found existing installation: tqdm 4.64.1\n",
            "    Uninstalling tqdm-4.64.1:\n",
            "      Successfully uninstalled tqdm-4.64.1\n",
            "  Attempting uninstall: torch\n",
            "    Found existing installation: torch 1.12.1+cu113\n",
            "    Uninstalling torch-1.12.1+cu113:\n",
            "      Successfully uninstalled torch-1.12.1+cu113\n",
            "  Attempting uninstall: scikit-image\n",
            "    Found existing installation: scikit-image 0.18.3\n",
            "    Uninstalling scikit-image-0.18.3:\n",
            "      Successfully uninstalled scikit-image-0.18.3\n",
            "  Attempting uninstall: easydict\n",
            "    Found existing installation: easydict 1.10\n",
            "    Uninstalling easydict-1.10:\n",
            "      Successfully uninstalled easydict-1.10\n",
            "\u001b[31mERROR: pip's dependency resolver does not currently take into account all the packages that are installed. This behaviour is the source of the following dependency conflicts.\n",
            "xarray-einstats 0.2.2 requires numpy>=1.21, but you have numpy 1.18.2 which is incompatible.\n",
            "torchvision 0.13.1+cu113 requires torch==1.12.1, but you have torch 1.4.0 which is incompatible.\n",
            "torchtext 0.13.1 requires torch==1.12.1, but you have torch 1.4.0 which is incompatible.\n",
            "torchaudio 0.12.1+cu113 requires torch==1.12.1, but you have torch 1.4.0 which is incompatible.\n",
            "tensorflow 2.9.2 requires numpy>=1.20, but you have numpy 1.18.2 which is incompatible.\n",
            "tables 3.7.0 requires numpy>=1.19.0, but you have numpy 1.18.2 which is incompatible.\n",
            "plotnine 0.8.0 requires matplotlib>=3.1.1, but you have matplotlib 2.2.3 which is incompatible.\n",
            "plotnine 0.8.0 requires numpy>=1.19.0, but you have numpy 1.18.2 which is incompatible.\n",
            "panel 0.12.1 requires tqdm>=4.48.0, but you have tqdm 4.43.0 which is incompatible.\n",
            "mizani 0.7.3 requires matplotlib>=3.1.1, but you have matplotlib 2.2.3 which is incompatible.\n",
            "kapre 0.3.7 requires numpy>=1.18.5, but you have numpy 1.18.2 which is incompatible.\n",
            "jaxlib 0.3.25+cuda11.cudnn805 requires numpy>=1.20, but you have numpy 1.18.2 which is incompatible.\n",
            "jax 0.3.25 requires numpy>=1.20, but you have numpy 1.18.2 which is incompatible.\n",
            "fastai 2.7.10 requires torch<1.14,>=1.7, but you have torch 1.4.0 which is incompatible.\n",
            "datascience 0.17.5 requires matplotlib>=3.0.0, but you have matplotlib 2.2.3 which is incompatible.\n",
            "cupy-cuda11x 11.0.0 requires numpy<1.26,>=1.20, but you have numpy 1.18.2 which is incompatible.\n",
            "cmdstanpy 1.0.8 requires numpy>=1.21, but you have numpy 1.18.2 which is incompatible.\n",
            "arviz 0.12.1 requires matplotlib>=3.0, but you have matplotlib 2.2.3 which is incompatible.\u001b[0m\n",
            "Successfully installed easydict-1.9 matplotlib-2.2.3 numpy-1.18.2 scikit-image-0.16.2 tensorboardX-2.0 torch-1.4.0 tqdm-4.43.0\n"
          ]
        },
        {
          "data": {
            "application/vnd.colab-display-data+json": {
              "pip_warning": {
                "packages": [
                  "matplotlib",
                  "mpl_toolkits",
                  "numpy",
                  "torch",
                  "tqdm"
                ]
              }
            }
          },
          "metadata": {},
          "output_type": "display_data"
        }
      ],
      "source": [
        "!pip install -r requirements.txt"
      ]
    },
    {
      "cell_type": "markdown",
      "metadata": {
        "id": "laE8i6zRtLeX"
      },
      "source": [
        "# Step 05. Prepare data"
      ]
    },
    {
      "cell_type": "code",
      "execution_count": 6,
      "metadata": {
        "colab": {
          "base_uri": "https://localhost:8080/"
        },
        "id": "EUFtCPRHrGL6",
        "outputId": "e409841c-1296-4c2a-bd0d-338aaa8e80c2"
      },
      "outputs": [
        {
          "name": "stdout",
          "output_type": "stream",
          "text": [
            "Archive:  /content/gdrive/My Drive/colab/data/ChessPieces.v1-416x416auto-orient.yolov4pytorch.zip\n",
            " extracting: /content/gdrive/My Drive/colab/pytorch-YOLOv4/data_unzip/test/e4583d082076b2b549b3736ad1b193c9_jpg.rf.55af0c9be903e4dda4a002af87bdeaac.jpg  \n",
            " extracting: /content/gdrive/My Drive/colab/pytorch-YOLOv4/data_unzip/test/5a35ba2ec3e0d0b2b12b1758a8ac29aa_jpg.rf.280f9940defacbb5d840aef65a9257e5.jpg  \n",
            " extracting: /content/gdrive/My Drive/colab/pytorch-YOLOv4/data_unzip/test/33afc6085c4d5a8f2421c1adc5a1edbf_jpg.rf.642c5b5370e5900cae860045ade36211.jpg  \n",
            " extracting: /content/gdrive/My Drive/colab/pytorch-YOLOv4/data_unzip/test/b9402881fa580d0eb8b9b98845417550_jpg.rf.238f51ed1096107324224ade76408bdb.jpg  \n",
            " extracting: /content/gdrive/My Drive/colab/pytorch-YOLOv4/data_unzip/test/e0d38d159ad3a801d0304d7e275812cc_jpg.rf.0cd06a940ccc9894109d83792535e3eb.jpg  \n",
            " extracting: /content/gdrive/My Drive/colab/pytorch-YOLOv4/data_unzip/test/2f6fb003bb89cd401322a535acb42f65_jpg.rf.49b342a7b1f6de3f0e328beaf094a945.jpg  \n",
            " extracting: /content/gdrive/My Drive/colab/pytorch-YOLOv4/data_unzip/test/7a34d8620235048917b28bcfd3b5572b_jpg.rf.182f59c512dcb99ed53da97dfe2d3d85.jpg  \n",
            " extracting: /content/gdrive/My Drive/colab/pytorch-YOLOv4/data_unzip/test/0b47311f426ff926578c9d738d683e76_jpg.rf.58093f799a6f56c30830617ca44745ca.jpg  \n",
            " extracting: /content/gdrive/My Drive/colab/pytorch-YOLOv4/data_unzip/test/cfc306bf86176b92ffc1afbb98d7896f_jpg.rf.2de0d2da0025b5993598f47fb1d51d10.jpg  \n",
            " extracting: /content/gdrive/My Drive/colab/pytorch-YOLOv4/data_unzip/test/a3863d0be6002c21b20ac88817b2c56f_jpg.rf.ba355f57305a2236db1a9cfb0ac79989.jpg  \n",
            " extracting: /content/gdrive/My Drive/colab/pytorch-YOLOv4/data_unzip/test/ba6289667457a113c1a753a87c041c51_jpg.rf.31874cd941dfda8ac86b77fdc97f4931.jpg  \n",
            " extracting: /content/gdrive/My Drive/colab/pytorch-YOLOv4/data_unzip/test/b4ff4132c8c85da97d8bf9a2a4ed3e3d_jpg.rf.445b4d70e01a3d742ecf0b7756e636da.jpg  \n",
            " extracting: /content/gdrive/My Drive/colab/pytorch-YOLOv4/data_unzip/test/c5a012dfa72816098d23fc8baee67834_jpg.rf.8b0e56e40c7c2429ce0e56797eb55c88.jpg  \n",
            " extracting: /content/gdrive/My Drive/colab/pytorch-YOLOv4/data_unzip/test/fdcd6ada676799da8a870f58fdf548db_jpg.rf.bdda51ee840f036af9280598f08b1879.jpg  \n",
            " extracting: /content/gdrive/My Drive/colab/pytorch-YOLOv4/data_unzip/test/cf4769d0586df6b3fb0dc618d9f8abe6_jpg.rf.699ec58d7d2447b4d73b748c39525b2d.jpg  \n",
            " extracting: /content/gdrive/My Drive/colab/pytorch-YOLOv4/data_unzip/test/1c0060ef868bdc326ce5e6389cb6732f_jpg.rf.a07af6147d4a79376c182d2d95c639ec.jpg  \n",
            " extracting: /content/gdrive/My Drive/colab/pytorch-YOLOv4/data_unzip/test/d7887071e972604ddf5940d8eb2702e7_jpg.rf.78288a14dc86417b6d3e798fa7fb5cf3.jpg  \n",
            " extracting: /content/gdrive/My Drive/colab/pytorch-YOLOv4/data_unzip/test/73a38a5c8f8f1b09f093f304660d5326_jpg.rf.b23ca34654408e01ab45b9c780032dfd.jpg  \n",
            " extracting: /content/gdrive/My Drive/colab/pytorch-YOLOv4/data_unzip/test/685b860d412b91f5d4f7f9e643b84452_jpg.rf.4271132b4ce08c4ec0987ab2490e7edc.jpg  \n",
            " extracting: /content/gdrive/My Drive/colab/pytorch-YOLOv4/data_unzip/test/8b457d1c86ad0c8e734b78de2f974fe6_jpg.rf.c2b8260a74f1b24b36c5e5e1cae8ef1d.jpg  \n",
            " extracting: /content/gdrive/My Drive/colab/pytorch-YOLOv4/data_unzip/test/4e3117459d759798537eb52cf5bf534d_jpg.rf.437c663d542c17860c1e82c1fca878e6.jpg  \n",
            " extracting: /content/gdrive/My Drive/colab/pytorch-YOLOv4/data_unzip/test/c4943d83c06a12ad5e0399d19514a4ca_jpg.rf.8197feccc16483d753bdd671cf29a174.jpg  \n",
            " extracting: /content/gdrive/My Drive/colab/pytorch-YOLOv4/data_unzip/test/749e9074a77f8d34d86e2218f26cdab4_jpg.rf.ac8241b790c765e76eb65db0e3239302.jpg  \n",
            " extracting: /content/gdrive/My Drive/colab/pytorch-YOLOv4/data_unzip/test/e4147f3d8819fc5d67a9f72596bd9e47_jpg.rf.61c071896199b2723723ba615ce57cb2.jpg  \n",
            " extracting: /content/gdrive/My Drive/colab/pytorch-YOLOv4/data_unzip/test/8ff752f9ed443e6e49d495abfceb2032_jpg.rf.4d299f90a6d716ab9d8a7d1741c26b62.jpg  \n",
            " extracting: /content/gdrive/My Drive/colab/pytorch-YOLOv4/data_unzip/test/f1a24b6bb778ee11ba33687415aa84f2_jpg.rf.c3f21b35159c24fd853cb1da56f80d6c.jpg  \n",
            " extracting: /content/gdrive/My Drive/colab/pytorch-YOLOv4/data_unzip/train/889c420fb266b8d0e817306110042bda_jpg.rf.187d72f3d58f732ea576641f5c702f61.jpg  \n",
            " extracting: /content/gdrive/My Drive/colab/pytorch-YOLOv4/data_unzip/train/9c153a9c9798dab948d4260eb109b315_jpg.rf.04a431391f78af71e5ebaf9d51d91faf.jpg  \n",
            " extracting: /content/gdrive/My Drive/colab/pytorch-YOLOv4/data_unzip/train/36066ba85572ce99198f1a21c2c8bbff_jpg.rf.1bb4689be2417ff995fbd5e22876c353.jpg  \n",
            " extracting: /content/gdrive/My Drive/colab/pytorch-YOLOv4/data_unzip/train/614811e933a680fd6535ac8bf06bf530_jpg.rf.0b9ea19fb73269b21cf021c584b84aeb.jpg  \n",
            " extracting: /content/gdrive/My Drive/colab/pytorch-YOLOv4/data_unzip/train/699edbacbfee5e6d4d6d2189bc88990a_jpg.rf.21253a833a9f17c4391a96e64b279fd9.jpg  \n",
            " extracting: /content/gdrive/My Drive/colab/pytorch-YOLOv4/data_unzip/train/0f4512d71c096f2699d705792e88fc58_jpg.rf.0971fe35ffe3ebbcc3e2a709de978aec.jpg  \n",
            " extracting: /content/gdrive/My Drive/colab/pytorch-YOLOv4/data_unzip/train/3914be0cea4aa8a6bbd1081ec3b034a7_jpg.rf.1a22ac976f9598278bbbf963909a32ef.jpg  \n",
            " extracting: /content/gdrive/My Drive/colab/pytorch-YOLOv4/data_unzip/train/254f92b18b2a81f88b85e7aed3cabc61_jpg.rf.09fc82bf7878065eb6cad223e60f7f0b.jpg  \n",
            " extracting: /content/gdrive/My Drive/colab/pytorch-YOLOv4/data_unzip/test/b526b661a33ff481231d1342aff2a266_jpg.rf.dd4da31fe7f3f0eac58576f8f2c56f61.jpg  \n",
            " extracting: /content/gdrive/My Drive/colab/pytorch-YOLOv4/data_unzip/train/dd6b5c3cb2d7e77f38f1dfeb2bff0431_jpg.rf.065f8833508d101a1f1449e8fbabc314.jpg  \n",
            " extracting: /content/gdrive/My Drive/colab/pytorch-YOLOv4/data_unzip/train/e79deba8fe520409790b601ad61da4ee_jpg.rf.016bc04dee292f80d1f975931f32bc21.jpg  \n",
            " extracting: /content/gdrive/My Drive/colab/pytorch-YOLOv4/data_unzip/train/49d365236ee4fb6bd982b0f00bff007e_jpg.rf.16bc32d2b40baeabec00c02b2f9d0e84.jpg  \n",
            " extracting: /content/gdrive/My Drive/colab/pytorch-YOLOv4/data_unzip/train/4de23afff63bc169b4ebe547a9c9b692_jpg.rf.0cf789652d85886de3d00b05bef061eb.jpg  \n",
            " extracting: /content/gdrive/My Drive/colab/pytorch-YOLOv4/data_unzip/train/b0f3d66c8be13f5f6aa25b67a06bdcfa_jpg.rf.01b3f3243bf31cb2ea18a89fd58044be.jpg  \n",
            " extracting: /content/gdrive/My Drive/colab/pytorch-YOLOv4/data_unzip/train/f3a5df526393445c6e2d38f66c1f5c27_jpg.rf.09aeba93cdea53cc6a6db62f6056ec35.jpg  \n",
            " extracting: /content/gdrive/My Drive/colab/pytorch-YOLOv4/data_unzip/test/410993714e325a1de3e394ffe860df3a_jpg.rf.ceda8f2165a9e8b314a6278acd02686f.jpg  \n",
            " extracting: /content/gdrive/My Drive/colab/pytorch-YOLOv4/data_unzip/train/cae099fe41d6aa30033d71e433c33c8d_jpg.rf.124529e05c30bf412475f20b8f274f95.jpg  \n",
            " extracting: /content/gdrive/My Drive/colab/pytorch-YOLOv4/data_unzip/train/d0cc2420bce5b14dfd39e55dc3737e57_jpg.rf.0f1c927870242d0e614bd6e320f9969e.jpg  \n",
            " extracting: /content/gdrive/My Drive/colab/pytorch-YOLOv4/data_unzip/test/654bb8835258b26c466b1c19893df451_jpg.rf.e4099f0bbd3b79210414bb32a47b437c.jpg  \n",
            " extracting: /content/gdrive/My Drive/colab/pytorch-YOLOv4/data_unzip/train/1595777dfa66e954ae23655743e24809_jpg.rf.1ce3ed024877808c7e9f12f1f83fefae.jpg  \n",
            " extracting: /content/gdrive/My Drive/colab/pytorch-YOLOv4/data_unzip/train/4d7820ad9fb4fe69d5168e1d7317dd02_jpg.rf.1279c1ccceab06443a62004f2800d891.jpg  \n",
            " extracting: /content/gdrive/My Drive/colab/pytorch-YOLOv4/data_unzip/train/389b4c47568c78c44df11dbb1377ffea_jpg.rf.1d6174519a8e98c853c57584e8cba891.jpg  \n",
            " extracting: /content/gdrive/My Drive/colab/pytorch-YOLOv4/data_unzip/train/66f3c2c7c10a9263de9c6e056ba5c1b9_jpg.rf.18efa20b29dfe94acf3cb63ccc92a4b3.jpg  \n",
            " extracting: /content/gdrive/My Drive/colab/pytorch-YOLOv4/data_unzip/train/5cecd3b3946aac5c713a51e0bd4617c9_jpg.rf.03286d3792ba33d52a3654e14735c974.jpg  \n",
            " extracting: /content/gdrive/My Drive/colab/pytorch-YOLOv4/data_unzip/train/104ec0199cb67e1a359b1b0845ee66f3_jpg.rf.2148e2af0737be8e162d7d867805a8ac.jpg  \n",
            " extracting: /content/gdrive/My Drive/colab/pytorch-YOLOv4/data_unzip/train/fa4e2b9a8cf58f405f69a56c662834f2_jpg.rf.2ac2e858d136ce51bcecdc1129187214.jpg  \n",
            " extracting: /content/gdrive/My Drive/colab/pytorch-YOLOv4/data_unzip/train/e6e3a2ff2c75970490079f00136885ad_jpg.rf.2733f54e2f320fbc9c5e0058c731d765.jpg  \n",
            " extracting: /content/gdrive/My Drive/colab/pytorch-YOLOv4/data_unzip/train/4d6b667ecbd41ebd603b38848366d9d0_jpg.rf.29238774d80d0be8def25571c503714f.jpg  \n",
            " extracting: /content/gdrive/My Drive/colab/pytorch-YOLOv4/data_unzip/train/ddad9dc4d945006d66f5349d64498559_jpg.rf.3d6e55223a3ce985572a9e46d7c6a9f8.jpg  \n",
            " extracting: /content/gdrive/My Drive/colab/pytorch-YOLOv4/data_unzip/train/26d663ab5ffbec49f9dc8e592982cfd4_jpg.rf.238eb82b4d50cc47759fa7ce82c43b97.jpg  \n",
            " extracting: /content/gdrive/My Drive/colab/pytorch-YOLOv4/data_unzip/train/ea799d77875c399618c45cd9409f34ee_jpg.rf.316738a20243cf9a9a408b56ccaa5616.jpg  \n",
            " extracting: /content/gdrive/My Drive/colab/pytorch-YOLOv4/data_unzip/train/d29148a2233950a7777285281cbfccff_jpg.rf.2e63366f947507e0735a25d532caaa54.jpg  \n",
            " extracting: /content/gdrive/My Drive/colab/pytorch-YOLOv4/data_unzip/train/9a6b61a6d3b3e3ecddc201b097aa02d1_jpg.rf.3903667901a40aedda2c42c43502d96b.jpg  \n",
            " extracting: /content/gdrive/My Drive/colab/pytorch-YOLOv4/data_unzip/train/37fe05bcf7d8568a9e55b569afdbccbd_jpg.rf.369f4b4dbd105056aa23957cd4be1687.jpg  \n",
            " extracting: /content/gdrive/My Drive/colab/pytorch-YOLOv4/data_unzip/train/f9a9a175f26d4b26bca3a5338cc1405e_jpg.rf.378f0d92128b1608bc48d47324f380b4.jpg  \n",
            " extracting: /content/gdrive/My Drive/colab/pytorch-YOLOv4/data_unzip/train/c7890b749d14d3488066cbdfac4620fd_jpg.rf.3850673b2781e44e1a293fe12a9cde12.jpg  \n",
            " extracting: /content/gdrive/My Drive/colab/pytorch-YOLOv4/data_unzip/train/04aed88a8d23cf27e47806eb23948495_jpg.rf.4021af803b1b21022221cd3654117580.jpg  \n",
            " extracting: /content/gdrive/My Drive/colab/pytorch-YOLOv4/data_unzip/train/a8847f8fe8eaaa1c97bf83027a901760_jpg.rf.26afc5ee5c983fe73c8e113e99127fa9.jpg  \n",
            " extracting: /content/gdrive/My Drive/colab/pytorch-YOLOv4/data_unzip/train/055b79dd8db4c43e1a23be6095aaf624_jpg.rf.3eddea89d44864ecd7971d2827ee88df.jpg  \n",
            " extracting: /content/gdrive/My Drive/colab/pytorch-YOLOv4/data_unzip/train/5758322233deed7ae7adc23536db2a4f_jpg.rf.2ac5b8df5fb0e541557f79cbdd79f51a.jpg  \n",
            " extracting: /content/gdrive/My Drive/colab/pytorch-YOLOv4/data_unzip/train/6179b463c8f503445e213b706d2a4de5_jpg.rf.22c6e0d7cc69bbceddc0ed8a8b0e0bc5.jpg  \n",
            " extracting: /content/gdrive/My Drive/colab/pytorch-YOLOv4/data_unzip/train/0d9dbf62d5ee42b92bf55197bba4254d_jpg.rf.3dfbde3b99d83e88daa3b69514daa68d.jpg  \n",
            " extracting: /content/gdrive/My Drive/colab/pytorch-YOLOv4/data_unzip/train/bb54af2f0b83b174aecc29328c8fa001_jpg.rf.3224d475bfa4e44af5b808c58d411c4d.jpg  \n",
            " extracting: /content/gdrive/My Drive/colab/pytorch-YOLOv4/data_unzip/train/0301b7f9ed4d5ba503fda79fc4370c29_jpg.rf.3ecfd27607406c9f46c1525efd39e17b.jpg  \n",
            " extracting: /content/gdrive/My Drive/colab/pytorch-YOLOv4/data_unzip/train/8678864272a0a04c4c65ca96324105b4_jpg.rf.23c0e1b2c040efd89095760e27f28eaa.jpg  \n",
            " extracting: /content/gdrive/My Drive/colab/pytorch-YOLOv4/data_unzip/train/fa3cf2724c1648a8822b59ac0759475f_jpg.rf.3ad41d095557e6bfb446af5de5553e75.jpg  \n",
            " extracting: /content/gdrive/My Drive/colab/pytorch-YOLOv4/data_unzip/train/e8480d7fb9881d8a0e88b7be4d103f6d_jpg.rf.2bc6fa7acb94ff9b2993d2de0c7def9e.jpg  \n",
            " extracting: /content/gdrive/My Drive/colab/pytorch-YOLOv4/data_unzip/train/292b0ddcacad7de06a628980954b6993_jpg.rf.3e5a330ebaead704099fbdbcee34d96f.jpg  \n",
            " extracting: /content/gdrive/My Drive/colab/pytorch-YOLOv4/data_unzip/train/1a530d578f3f0bf3497bfeff3d953025_jpg.rf.2a30081d7234f714736032af1dcb4193.jpg  \n",
            " extracting: /content/gdrive/My Drive/colab/pytorch-YOLOv4/data_unzip/train/675619f2c8078824cfd182cec2eeba95_jpg.rf.2a121620701a980a77942a4d8e8a813c.jpg  \n",
            " extracting: /content/gdrive/My Drive/colab/pytorch-YOLOv4/data_unzip/train/4bf38c062fa7b5796d15ba90d6c3a456_jpg.rf.47d09ca58c3f5cb00e286ed52ab6f29a.jpg  \n",
            " extracting: /content/gdrive/My Drive/colab/pytorch-YOLOv4/data_unzip/train/969daa72bd7804ea1212e191820249b0_jpg.rf.42fdf983653232bcccbca70f94cbfac4.jpg  \n",
            " extracting: /content/gdrive/My Drive/colab/pytorch-YOLOv4/data_unzip/train/4ae38537a74c5ed10d5223f8066659fc_jpg.rf.4fef5c4efc7522714a483c38502f21f2.jpg  \n",
            " extracting: /content/gdrive/My Drive/colab/pytorch-YOLOv4/data_unzip/train/76dbe2ccf986a2a0d399d3d8a47279ad_jpg.rf.582fa23c9cb60c607ce4039d59257eac.jpg  \n",
            " extracting: /content/gdrive/My Drive/colab/pytorch-YOLOv4/data_unzip/train/61567b97353acc18ba9e8aac0f111326_jpg.rf.5764028ed4ece48b7894801e884e111e.jpg  \n",
            " extracting: /content/gdrive/My Drive/colab/pytorch-YOLOv4/data_unzip/train/47e842dd95735a11cf92c0ddf1161193_jpg.rf.563bd525e9210a59e275a565317b890f.jpg  \n",
            " extracting: /content/gdrive/My Drive/colab/pytorch-YOLOv4/data_unzip/train/a4028b2361ce7ead654a86b07ac39d52_jpg.rf.4300592f959cf20135ac198003615490.jpg  \n",
            " extracting: /content/gdrive/My Drive/colab/pytorch-YOLOv4/data_unzip/train/3796db002cba7265bd32b0161ddd9127_jpg.rf.4f039ba64a8a26531c2b2861e04cfe7a.jpg  \n",
            " extracting: /content/gdrive/My Drive/colab/pytorch-YOLOv4/data_unzip/train/81f5c542ffe0f9eae4df59d29acbcced_jpg.rf.561b8c31b527d84832e277765b20dc4d.jpg  \n",
            " extracting: /content/gdrive/My Drive/colab/pytorch-YOLOv4/data_unzip/train/6454bd04e2829d4ff83602f0f2d7154e_jpg.rf.46c9bd543815a1c9758df61f2569524e.jpg  \n",
            " extracting: /content/gdrive/My Drive/colab/pytorch-YOLOv4/data_unzip/train/614aadadb4a7f5b475b027b8e11398ee_jpg.rf.46607639a62cb9241830db1088e145a1.jpg  \n",
            " extracting: /content/gdrive/My Drive/colab/pytorch-YOLOv4/data_unzip/train/c76c79e40bd9839a05237934cfa89ca3_jpg.rf.498d8fcd0acd71952f9d92708b360fac.jpg  \n",
            " extracting: /content/gdrive/My Drive/colab/pytorch-YOLOv4/data_unzip/train/d079f4e77b2445abceca7534356db743_jpg.rf.463c6a4e369b2ffc0baaef7ebb4a68a2.jpg  \n",
            " extracting: /content/gdrive/My Drive/colab/pytorch-YOLOv4/data_unzip/train/c46bf04050a2a9323dfe563e8813602f_jpg.rf.4da1d855a20ec2d0deff03a46d8363c9.jpg  \n",
            " extracting: /content/gdrive/My Drive/colab/pytorch-YOLOv4/data_unzip/train/fb586797e8ad818c7e3e3a6411f73d84_jpg.rf.52352f51cdef2f343756ef296af65d9e.jpg  \n",
            " extracting: /content/gdrive/My Drive/colab/pytorch-YOLOv4/data_unzip/train/ef1d425fd5370fbf8b7adea43b755304_jpg.rf.509cd10372ad2fe7def2c49881348306.jpg  \n",
            " extracting: /content/gdrive/My Drive/colab/pytorch-YOLOv4/data_unzip/train/f3302c754c6fd42130014199ee327d10_jpg.rf.56672ccf94cd354a96888ca0e8a8e4e0.jpg  \n",
            " extracting: /content/gdrive/My Drive/colab/pytorch-YOLOv4/data_unzip/train/eb9e7928e756c3cf9164e7afc08c4653_jpg.rf.48f982d13896a1d8c0c7a566cdde2129.jpg  \n",
            " extracting: /content/gdrive/My Drive/colab/pytorch-YOLOv4/data_unzip/train/b3b002461f1c6b432e22964549767e5f_jpg.rf.46f0298de88abcc93f279274d84d6b6b.jpg  \n",
            " extracting: /content/gdrive/My Drive/colab/pytorch-YOLOv4/data_unzip/train/673bcd0d44f495fbe9dd88d5cacfceb3_jpg.rf.4f36394a6dc154067ad4da04cf503df8.jpg  \n",
            " extracting: /content/gdrive/My Drive/colab/pytorch-YOLOv4/data_unzip/train/97aeb1f9b745a929e9ac0848acb53a1a_jpg.rf.5997f0ef95b45103711d4fdc239c2691.jpg  \n",
            " extracting: /content/gdrive/My Drive/colab/pytorch-YOLOv4/data_unzip/train/23988893ef7381fece6d1ef32ef5428f_jpg.rf.5065b0683d241ad92afc074eed391b53.jpg  \n",
            " extracting: /content/gdrive/My Drive/colab/pytorch-YOLOv4/data_unzip/train/00bc0cacffdebe6b11bdeec56f63ee49_jpg.rf.59f0f02a28f020d480fd5d1d8aa32f6d.jpg  \n",
            " extracting: /content/gdrive/My Drive/colab/pytorch-YOLOv4/data_unzip/train/ce54969567273b9b8a275812ff56e16c_jpg.rf.59df2edfb1d3ece93a0939c27e2ed384.jpg  \n",
            " extracting: /content/gdrive/My Drive/colab/pytorch-YOLOv4/data_unzip/train/285d7c487a4e20ad832a74acb527b77f_jpg.rf.5ce3eb6a89b4c0019fde9d22a5921104.jpg  \n",
            " extracting: /content/gdrive/My Drive/colab/pytorch-YOLOv4/data_unzip/train/a932287da44b9dfacd0d16a5c1d27923_jpg.rf.5d4b7b1e6f3b0033a85c6fa52a0dbeef.jpg  \n",
            " extracting: /content/gdrive/My Drive/colab/pytorch-YOLOv4/data_unzip/train/759a86e63667ca033255c4ab438dd392_jpg.rf.708d1d10d1032312cacd959485e92fa5.jpg  \n",
            " extracting: /content/gdrive/My Drive/colab/pytorch-YOLOv4/data_unzip/train/9d776e74e90c4f8092b060dd7567e2f8_jpg.rf.5d6deb8a1e7a40c616186a7b90f48c2b.jpg  \n",
            " extracting: /content/gdrive/My Drive/colab/pytorch-YOLOv4/data_unzip/train/13106bbc80a01cc413c2ab5052d2ec25_jpg.rf.6fb6095088bd3962b78e22f736409ea5.jpg  \n",
            " extracting: /content/gdrive/My Drive/colab/pytorch-YOLOv4/data_unzip/train/e40003d4bbcdac7196b9502bfe2fb6ed_jpg.rf.67e2013fa9dd32e5a94dc926ddabfd35.jpg  \n",
            " extracting: /content/gdrive/My Drive/colab/pytorch-YOLOv4/data_unzip/train/f5231f940bcf1527ef8bb8e46ac0532b_jpg.rf.5d8200f918b607f7dbc41c8533095e41.jpg  \n",
            " extracting: /content/gdrive/My Drive/colab/pytorch-YOLOv4/data_unzip/train/2fe75c34fd54e960146fb8b0ad8b3fd6_jpg.rf.6091e6d4216ef3f71b33d14c30ec0d54.jpg  \n",
            " extracting: /content/gdrive/My Drive/colab/pytorch-YOLOv4/data_unzip/train/76e118acf05a8ebe06957f8882cc06aa_jpg.rf.6170a8b5a9733bae0c02d0ca375bde10.jpg  \n",
            " extracting: /content/gdrive/My Drive/colab/pytorch-YOLOv4/data_unzip/train/a5c65b40e0be3480c0ecfacaab399a87_jpg.rf.65826955144870ecaf37db65ef6532ae.jpg  \n",
            " extracting: /content/gdrive/My Drive/colab/pytorch-YOLOv4/data_unzip/train/d795f84f39716798482fb2937868ed8a_jpg.rf.714951561ee3a485ad7bb06fe4377bf5.jpg  \n",
            " extracting: /content/gdrive/My Drive/colab/pytorch-YOLOv4/data_unzip/train/4667110b61b16e786673ed6126ccc35d_jpg.rf.775479ebec16606e8b47874da02463fb.jpg  \n",
            " extracting: /content/gdrive/My Drive/colab/pytorch-YOLOv4/data_unzip/train/dda052fc8dbcce6154d6874a663743eb_jpg.rf.5f2765d09b2e90e6a1d5a629a006e6ac.jpg  \n",
            " extracting: /content/gdrive/My Drive/colab/pytorch-YOLOv4/data_unzip/train/d67b5b9e900409b050dd9bd594f90709_jpg.rf.7559a07ac3b4029a5a287b4b7b96ea37.jpg  \n",
            " extracting: /content/gdrive/My Drive/colab/pytorch-YOLOv4/data_unzip/train/f587402be410b424bcbbac06e1dc6162_jpg.rf.7181098acae97a248bfa1d0586a3db69.jpg  \n",
            " extracting: /content/gdrive/My Drive/colab/pytorch-YOLOv4/data_unzip/train/05de676d5078dc0a13796f3f627993ef_jpg.rf.70a6ddff100e5f321d7d6f8d4d977e3d.jpg  \n",
            " extracting: /content/gdrive/My Drive/colab/pytorch-YOLOv4/data_unzip/train/c3e9e81ba1540aae7961a4d8d96600ba_jpg.rf.65c56919cca14d00fbe5d2d44ec569de.jpg  \n",
            " extracting: /content/gdrive/My Drive/colab/pytorch-YOLOv4/data_unzip/train/c0d68e012bb93c14bc333fc1d5e52621_jpg.rf.60fc27683bf9457b110251dbc3bb7c4b.jpg  \n",
            " extracting: /content/gdrive/My Drive/colab/pytorch-YOLOv4/data_unzip/train/446e75de1ffefc2115e79696bcf0e357_jpg.rf.642c290200ecf6bac85bbde223355232.jpg  \n",
            " extracting: /content/gdrive/My Drive/colab/pytorch-YOLOv4/data_unzip/train/99ee6574b2a7afc0bb06269bbcf49a4c_jpg.rf.693e8999d9c962ab16c457b2225359f0.jpg  \n",
            " extracting: /content/gdrive/My Drive/colab/pytorch-YOLOv4/data_unzip/train/743665d7ef6ab0330e8786227f6f4051_jpg.rf.6482e654f2b3d8ecebfdaf396c741b07.jpg  \n",
            " extracting: /content/gdrive/My Drive/colab/pytorch-YOLOv4/data_unzip/train/5825608dccde6544eef91822136079d0_jpg.rf.62780259541cb1ed0b071c0594b71147.jpg  \n",
            " extracting: /content/gdrive/My Drive/colab/pytorch-YOLOv4/data_unzip/train/03d3ff4582c8125d69c19a72f846bec8_jpg.rf.5f77781cbc56eff8679f258ff4f7cc9f.jpg  \n",
            " extracting: /content/gdrive/My Drive/colab/pytorch-YOLOv4/data_unzip/train/8d6f722eadc015a393bd490f9b7a85e6_jpg.rf.651f72c0d06342bd6e79bff0aeea8fd2.jpg  \n",
            " extracting: /content/gdrive/My Drive/colab/pytorch-YOLOv4/data_unzip/train/859e7157c6d544236a67463c08169b6e_jpg.rf.773fea93fd9593e63fedd9d27f8581a7.jpg  \n",
            " extracting: /content/gdrive/My Drive/colab/pytorch-YOLOv4/data_unzip/train/b5bcde459ca36f0d1f3c20e751336672_jpg.rf.667ee729363a8d60c926d9dd3734bf2f.jpg  \n",
            " extracting: /content/gdrive/My Drive/colab/pytorch-YOLOv4/data_unzip/train/196829feb704a34a4e471155f14bdd80_jpg.rf.7b98c9eefcd83f5cf7eea7a95e4ceba3.jpg  \n",
            " extracting: /content/gdrive/My Drive/colab/pytorch-YOLOv4/data_unzip/train/b79ae5b70de58089ead6e32b235e30d3_jpg.rf.87a4a8323a2c39c2f925c7987a01d1b6.jpg  \n",
            " extracting: /content/gdrive/My Drive/colab/pytorch-YOLOv4/data_unzip/train/8d796de64b9eed1ffd5ebe550d4ca807_jpg.rf.7a9a939f45b77b1804da67fbb088c795.jpg  \n",
            " extracting: /content/gdrive/My Drive/colab/pytorch-YOLOv4/data_unzip/train/3474d785b1b21d68163f56aa00a92bc9_jpg.rf.7edb79a8e8ad56b74a670a5c43b5cf2a.jpg  \n",
            " extracting: /content/gdrive/My Drive/colab/pytorch-YOLOv4/data_unzip/train/02f0931b536dfba10affc3231a3d64fb_jpg.rf.7daf233a70122377355a36ca33e82aa4.jpg  \n",
            " extracting: /content/gdrive/My Drive/colab/pytorch-YOLOv4/data_unzip/train/03886821377011fec599e8fa12d86e89_jpg.rf.78d439f975872bc0120d597bd265684b.jpg  \n",
            " extracting: /content/gdrive/My Drive/colab/pytorch-YOLOv4/data_unzip/train/59727dce26aaa6100078810b61404069_jpg.rf.7c04dbe505cf1bd214e4f491e3a395af.jpg  \n",
            " extracting: /content/gdrive/My Drive/colab/pytorch-YOLOv4/data_unzip/train/48e115dcbf1b3a67ca47a75a92da3f33_jpg.rf.9a3c3e55cb4a229779fc06a672af0765.jpg  \n",
            " extracting: /content/gdrive/My Drive/colab/pytorch-YOLOv4/data_unzip/train/8dd12470c30e3b265e8933a6fee7ad28_jpg.rf.84b8584b870b790d4f5d40bdd24c1af4.jpg  \n",
            " extracting: /content/gdrive/My Drive/colab/pytorch-YOLOv4/data_unzip/train/4807629b8df9c7eb4366b7feccd72e6a_jpg.rf.8586b4e2e824f8ee2e108a4a32592c9d.jpg  \n",
            " extracting: /content/gdrive/My Drive/colab/pytorch-YOLOv4/data_unzip/train/4ab3343c9e91e56813f6c36bcac9896a_jpg.rf.959e82a0ff12d5f2276016650905b3d1.jpg  \n",
            " extracting: /content/gdrive/My Drive/colab/pytorch-YOLOv4/data_unzip/train/9e943906fba1ec89edfacb2dd7976504_jpg.rf.9702132e48df03814384024ca7313212.jpg  \n",
            " extracting: /content/gdrive/My Drive/colab/pytorch-YOLOv4/data_unzip/train/5a8433ec79c881f84ef19a07dc73665d_jpg.rf.8c74727285683022959679af3c43f190.jpg  \n",
            " extracting: /content/gdrive/My Drive/colab/pytorch-YOLOv4/data_unzip/train/f2672cdc28767484b556da3ab6f1003e_jpg.rf.7d0badf9505f1655f0561107d11a19f1.jpg  \n",
            " extracting: /content/gdrive/My Drive/colab/pytorch-YOLOv4/data_unzip/train/22e74efb18b2d88fba63d25a61bf5f97_jpg.rf.91ebc978b333aae9ba2289e894ff95c3.jpg  \n",
            " extracting: /content/gdrive/My Drive/colab/pytorch-YOLOv4/data_unzip/train/76d01bada90581f55f1ae64c062cafcf_jpg.rf.82f338c5d9879e03d2a7455a585493e3.jpg  \n",
            " extracting: /content/gdrive/My Drive/colab/pytorch-YOLOv4/data_unzip/train/b7a8c7de4fe1382d69f58ac97e819b5c_jpg.rf.7b795ae14bd822803c9f193def40e3ef.jpg  \n",
            " extracting: /content/gdrive/My Drive/colab/pytorch-YOLOv4/data_unzip/train/7df16cd59fb40e0691948cc805e4801b_jpg.rf.87b8be301feea11509703396e6f8b8e2.jpg  \n",
            " extracting: /content/gdrive/My Drive/colab/pytorch-YOLOv4/data_unzip/train/1877a28e4c5f5c1ea68aca66f4e85d95_jpg.rf.7d7dcb905c94e79222205feb915bafec.jpg  \n",
            " extracting: /content/gdrive/My Drive/colab/pytorch-YOLOv4/data_unzip/train/49c2afbbe5726160b289f7c0c62cdace_jpg.rf.88443bd77810fdde979f0d6c41bd3cc8.jpg  \n",
            " extracting: /content/gdrive/My Drive/colab/pytorch-YOLOv4/data_unzip/train/3161933dffedf8a859d6623a99492c53_jpg.rf.9267abfc68d9bd6af1912b5d0319f36c.jpg  \n",
            " extracting: /content/gdrive/My Drive/colab/pytorch-YOLOv4/data_unzip/train/f041d3171dfe3137390c85fc5437e447_jpg.rf.8814a03f0ba5cf32468d13ff688c5594.jpg  \n",
            " extracting: /content/gdrive/My Drive/colab/pytorch-YOLOv4/data_unzip/train/ca869123d8a0cbcc6e54f4a445e5a78a_jpg.rf.882d99242b6bdb27680eadd4a5904cb2.jpg  \n",
            " extracting: /content/gdrive/My Drive/colab/pytorch-YOLOv4/data_unzip/train/a9987cf6cc5c6545818ec294d4a5bb9b_jpg.rf.95a5bb9f3138fe997ff8faa21a85436f.jpg  \n",
            " extracting: /content/gdrive/My Drive/colab/pytorch-YOLOv4/data_unzip/train/a4ebf4c268d80c4fe329331ea981b3a1_jpg.rf.a15a2e6dfb1ce2864f46f69bb0c54795.jpg  \n",
            " extracting: /content/gdrive/My Drive/colab/pytorch-YOLOv4/data_unzip/train/d494cb268ad7f9f55587de138edc1dc4_jpg.rf.a61a3722fe947a9e22034acaaff19a8b.jpg  \n",
            " extracting: /content/gdrive/My Drive/colab/pytorch-YOLOv4/data_unzip/train/6f0a888f9e5aed9516e336fd04723ce1_jpg.rf.9dbcc89d91a6cada0f389a0e88ecf86b.jpg  \n",
            " extracting: /content/gdrive/My Drive/colab/pytorch-YOLOv4/data_unzip/train/edd285915356686fb53fb52c1ded0e53_jpg.rf.9e9b27a0d423c4ec63e6e1dd825d8ced.jpg  \n",
            " extracting: /content/gdrive/My Drive/colab/pytorch-YOLOv4/data_unzip/train/53de0674524ae6d77bdfff48136dec2a_jpg.rf.aadf3edd69993569f90483c91fae1fca.jpg  \n",
            " extracting: /content/gdrive/My Drive/colab/pytorch-YOLOv4/data_unzip/train/c733616ab773817dd1a356dbbdf2ee33_jpg.rf.a3c3194c8e748b8ab26858a2646ba856.jpg  \n",
            " extracting: /content/gdrive/My Drive/colab/pytorch-YOLOv4/data_unzip/train/bc5decab88861286dcf78a367b4377cb_jpg.rf.99264d2583f17e6ba8a7b2e15c54271a.jpg  \n",
            " extracting: /content/gdrive/My Drive/colab/pytorch-YOLOv4/data_unzip/train/8f84f1945fd993facc3368d13345f333_jpg.rf.b190d526f930a1e6e0c8568294cd2837.jpg  \n",
            " extracting: /content/gdrive/My Drive/colab/pytorch-YOLOv4/data_unzip/train/4939035108d04ee672570a7cc937e270_jpg.rf.a00ea9b7a719681055868d92c1191fe4.jpg  \n",
            " extracting: /content/gdrive/My Drive/colab/pytorch-YOLOv4/data_unzip/train/a20eb4bb3cea2e394cfcf9ed969b628e_jpg.rf.abd0f3c626fca3ba6c4111d4fbf656ab.jpg  \n",
            " extracting: /content/gdrive/My Drive/colab/pytorch-YOLOv4/data_unzip/train/6bb6f7cb96bf37230681d12ff7882f61_jpg.rf.b1255adcc94141477b7d089a0b9ebf42.jpg  \n",
            " extracting: /content/gdrive/My Drive/colab/pytorch-YOLOv4/data_unzip/train/cf2784fa97151d5316b2961b1e62dc45_jpg.rf.af04872f77bc32d96852b458e1b3597d.jpg  \n",
            " extracting: /content/gdrive/My Drive/colab/pytorch-YOLOv4/data_unzip/train/8967433350d3b3043902603430fccaab_jpg.rf.b3b6e9ca2da2674266a7d44c368a3953.jpg  \n",
            " extracting: /content/gdrive/My Drive/colab/pytorch-YOLOv4/data_unzip/train/8de03901c64a80070048ead3fb0d32bd_jpg.rf.a81d5c2674e7d68b2245ef7725a87fac.jpg  \n",
            " extracting: /content/gdrive/My Drive/colab/pytorch-YOLOv4/data_unzip/train/9962a4d44388b9008aa0f466e4f4052c_jpg.rf.b2b9e1236e560e47019df29344b0cc10.jpg  \n",
            " extracting: /content/gdrive/My Drive/colab/pytorch-YOLOv4/data_unzip/train/1728cd731489df8bb8e0396e178fe393_jpg.rf.9aa607b72daa7a732ab1285f5ff96c66.jpg  \n",
            " extracting: /content/gdrive/My Drive/colab/pytorch-YOLOv4/data_unzip/train/f3e64e9dd12b65b941c142d142b33ef5_jpg.rf.a9db857ababa4d01d03eb09a527d29fc.jpg  \n",
            " extracting: /content/gdrive/My Drive/colab/pytorch-YOLOv4/data_unzip/train/2ee0fd0963465ba29d8f27c6e605c55d_jpg.rf.b0d9e857c9a56fc8077ea156fca40284.jpg  \n",
            " extracting: /content/gdrive/My Drive/colab/pytorch-YOLOv4/data_unzip/train/ec5ab1930d6aa16fff2582b48f82cada_jpg.rf.ab0666b98c1ed6aed1a7a268fdb79ec6.jpg  \n",
            " extracting: /content/gdrive/My Drive/colab/pytorch-YOLOv4/data_unzip/train/3bab0eaaeb63a2ac9ae4942df4006a25_jpg.rf.a637df4b9da83609e96c1828e1f4366b.jpg  \n",
            " extracting: /content/gdrive/My Drive/colab/pytorch-YOLOv4/data_unzip/train/8bb72e70f0560095885586deba37a524_jpg.rf.addedc80f989194e077b8c53871457b8.jpg  \n",
            " extracting: /content/gdrive/My Drive/colab/pytorch-YOLOv4/data_unzip/train/92992ff9c823e0420bf17e71db9ef4ef_jpg.rf.a9c86b7daee5c7b1977507f760cdd7e8.jpg  \n",
            " extracting: /content/gdrive/My Drive/colab/pytorch-YOLOv4/data_unzip/train/383c2ed7bbe2d327ab55a871db497c33_jpg.rf.ac062d648b1833d4c5ada1dbc6052060.jpg  \n",
            " extracting: /content/gdrive/My Drive/colab/pytorch-YOLOv4/data_unzip/train/9146a6989dac08f1769e677064ebfb49_jpg.rf.adc60b60fd2041dbb3102a4561edf7b6.jpg  \n",
            " extracting: /content/gdrive/My Drive/colab/pytorch-YOLOv4/data_unzip/train/f02d615907c77dc15f02bd1372e4398f_jpg.rf.b46e520760107eb69d290ac810d8e1aa.jpg  \n",
            " extracting: /content/gdrive/My Drive/colab/pytorch-YOLOv4/data_unzip/train/f1ea0167087976926d4fe0aa36b961ce_jpg.rf.ab4d245320384c2d04ba6e9ba6a652ec.jpg  \n",
            " extracting: /content/gdrive/My Drive/colab/pytorch-YOLOv4/data_unzip/train/479459fe5c8213a84fd55ba82f2670b1_jpg.rf.c0cbd0b155916350af1e743b11766dfc.jpg  \n",
            " extracting: /content/gdrive/My Drive/colab/pytorch-YOLOv4/data_unzip/train/0798bfb058da59d189c1bfadcf814f29_jpg.rf.b73199953251d84e4895a862463b7964.jpg  \n",
            " extracting: /content/gdrive/My Drive/colab/pytorch-YOLOv4/data_unzip/train/8ff64b3f770bfe96bdffc629efd16460_jpg.rf.b56392e0638bcb50479d4e74dad8ac8a.jpg  \n",
            " extracting: /content/gdrive/My Drive/colab/pytorch-YOLOv4/data_unzip/train/6403b91d63799cb9b5531c47b195d088_jpg.rf.cb883855985dd9bb6c6abc4cbe53fa76.jpg  \n",
            " extracting: /content/gdrive/My Drive/colab/pytorch-YOLOv4/data_unzip/train/9fc54a45feb5b01db8f6828d181fb075_jpg.rf.c78f29bbe2df51ae862c73f5cca0eebd.jpg  \n",
            " extracting: /content/gdrive/My Drive/colab/pytorch-YOLOv4/data_unzip/train/4894f034a55eaa9252cd261a62b11d27_jpg.rf.bb716c1e40a670ecd703683c8dc332c0.jpg  \n",
            " extracting: /content/gdrive/My Drive/colab/pytorch-YOLOv4/data_unzip/train/80c787b97ed3e2b4befd6b11aa2fba37_jpg.rf.b7e9d028eb34400c5d239b57639e086e.jpg  \n",
            " extracting: /content/gdrive/My Drive/colab/pytorch-YOLOv4/data_unzip/train/fc9d7bc0453cb3324406401c00224d30_jpg.rf.c596d992843d8a35d80cadf5489e0770.jpg  \n",
            " extracting: /content/gdrive/My Drive/colab/pytorch-YOLOv4/data_unzip/train/3730ef213ac6aad431475a9ab28f349a_jpg.rf.c18235c762e398156f5a67144b46d3a9.jpg  \n",
            " extracting: /content/gdrive/My Drive/colab/pytorch-YOLOv4/data_unzip/train/ec4c30d88ecc70b6a3e76dbd9b17324a_jpg.rf.da4ab525f8d9b96b4de4067bd6694cbb.jpg  \n",
            " extracting: /content/gdrive/My Drive/colab/pytorch-YOLOv4/data_unzip/train/4eb630d4dd38528dacf72355caf5c06d_jpg.rf.cef25bd3e5eb142ccd065e5d26049127.jpg  \n",
            " extracting: /content/gdrive/My Drive/colab/pytorch-YOLOv4/data_unzip/train/0cf670506bf9e0fe587647cd62caa232_jpg.rf.cc43d799dab21abc85a4368295867d8f.jpg  \n",
            " extracting: /content/gdrive/My Drive/colab/pytorch-YOLOv4/data_unzip/train/2c32afd520cc8bf076dfa5b6e2e1c4c1_jpg.rf.c546a535eb5f3a68ed59a794c1faeb2a.jpg  \n",
            " extracting: /content/gdrive/My Drive/colab/pytorch-YOLOv4/data_unzip/train/48d3c59a99b2b5a5b9f1eb7d5ba63b60_jpg.rf.c196233c6c25ec23958aa743163344b1.jpg  \n",
            " extracting: /content/gdrive/My Drive/colab/pytorch-YOLOv4/data_unzip/train/3e8fb24addda1a0945bd6b7777bc4018_jpg.rf.d17abcc1ddc47bcc382536d9669e3fd5.jpg  \n",
            " extracting: /content/gdrive/My Drive/colab/pytorch-YOLOv4/data_unzip/train/d9acc69c5d57623cda22786e309201c9_jpg.rf.dc4a82120ade321eeae8146c917e3109.jpg  \n",
            " extracting: /content/gdrive/My Drive/colab/pytorch-YOLOv4/data_unzip/train/79e744a68d6e6f83be0a9e8761ea66a4_jpg.rf.d796c3ba698ebf673f0d3fc42062e20c.jpg  \n",
            " extracting: /content/gdrive/My Drive/colab/pytorch-YOLOv4/data_unzip/train/5e71cb8d41c333a18e799ef0004b040c_jpg.rf.d65a0847e82174366d01e29a636074e6.jpg  \n",
            " extracting: /content/gdrive/My Drive/colab/pytorch-YOLOv4/data_unzip/train/38f26ee82e38d332b2a831aa47bd363b_jpg.rf.ce772b291dcc390ce7786ed11a493495.jpg  \n",
            " extracting: /content/gdrive/My Drive/colab/pytorch-YOLOv4/data_unzip/train/3091c9b25d76e9cbd0af83ced9f354e5_jpg.rf.d5f14cd80477f444b7ed601f609c67dd.jpg  \n",
            " extracting: /content/gdrive/My Drive/colab/pytorch-YOLOv4/data_unzip/train/1b4ccdf7d5ff45dc6c3885243bde5af2_jpg.rf.c0b83419aa9e3c1b3b5a9cba2b9ea579.jpg  \n",
            " extracting: /content/gdrive/My Drive/colab/pytorch-YOLOv4/data_unzip/train/0b4ba28f0c759a11750a6430649b52e3_jpg.rf.c732477a7f65117e3fb24bbd7bca5b8e.jpg  \n",
            " extracting: /content/gdrive/My Drive/colab/pytorch-YOLOv4/data_unzip/train/300f80826bbb7dc4bf83e148614f2f77_jpg.rf.d2ebe06b4f53115a03fefa84f8ce7f4e.jpg  \n",
            " extracting: /content/gdrive/My Drive/colab/pytorch-YOLOv4/data_unzip/train/b5102d7f9740eee7754ed268becb2163_jpg.rf.d4a8cfe5fa4d0f53d73c64b07ebabbce.jpg  \n",
            " extracting: /content/gdrive/My Drive/colab/pytorch-YOLOv4/data_unzip/train/247f9cf35a263dc7dd7886b187fd5480_jpg.rf.ca7241ecf892e490f69312d56b5a6773.jpg  \n",
            " extracting: /content/gdrive/My Drive/colab/pytorch-YOLOv4/data_unzip/train/34ad1966ae7a17d4502ca141413ed8d2_jpg.rf.dd63137d1c9d6095c293b48a0b6f3334.jpg  \n",
            " extracting: /content/gdrive/My Drive/colab/pytorch-YOLOv4/data_unzip/train/57def88c6de500f5f6926354b3680a13_jpg.rf.dd74421d7ddaa3ec1198e12a84a9f1dc.jpg  \n",
            " extracting: /content/gdrive/My Drive/colab/pytorch-YOLOv4/data_unzip/train/1a8a4abcba7c4ead35c01f05b9fae8e5_jpg.rf.e36b61dd77198f5d2ffd5c39645638cb.jpg  \n",
            " extracting: /content/gdrive/My Drive/colab/pytorch-YOLOv4/data_unzip/train/de60ba81aa78387928e4bdc11f3be301_jpg.rf.e7b8966eca79a6758f9f2eedfcf1177c.jpg  \n",
            " extracting: /content/gdrive/My Drive/colab/pytorch-YOLOv4/data_unzip/train/d3a4e1b8f13ef89f419251f5c5839d0d_jpg.rf.e4b5ce214ea2670fa96ab949aec57dcc.jpg  \n",
            " extracting: /content/gdrive/My Drive/colab/pytorch-YOLOv4/data_unzip/train/998222d9c93f1640829d4f0032dbf3e8_jpg.rf.dfdbeef166796c8f4327b3a456ca1cfe.jpg  \n",
            " extracting: /content/gdrive/My Drive/colab/pytorch-YOLOv4/data_unzip/train/6f0de9b594de9f9b92c6a20daa51a28a_jpg.rf.e7362c0e232dfa07aa0eb3f52bb4fd50.jpg  \n",
            " extracting: /content/gdrive/My Drive/colab/pytorch-YOLOv4/data_unzip/train/9504fb6b81031feac1fbf1e128b5c173_jpg.rf.e4e7ce142edc55c73267abbe60ec69b3.jpg  \n",
            " extracting: /content/gdrive/My Drive/colab/pytorch-YOLOv4/data_unzip/train/49f78dc9aaeadd0c76ed2def75c358f3_jpg.rf.ebe11640761df4735fa11bf2516c7967.jpg  \n",
            " extracting: /content/gdrive/My Drive/colab/pytorch-YOLOv4/data_unzip/train/a9768de3fceeeae2618f362870fb9a88_jpg.rf.f08a04590fba92deafdb3def03e97c44.jpg  \n",
            " extracting: /content/gdrive/My Drive/colab/pytorch-YOLOv4/data_unzip/train/6589f4cfb37439d7d276f0d70f7ee1f0_jpg.rf.e6bfa3034bc8005aaadf8ba1aca18e61.jpg  \n",
            " extracting: /content/gdrive/My Drive/colab/pytorch-YOLOv4/data_unzip/train/06770ce99d4866165c0dfb104179c361_jpg.rf.e7acda724f1beddf07e9cc9ee750f3d5.jpg  \n",
            " extracting: /content/gdrive/My Drive/colab/pytorch-YOLOv4/data_unzip/train/e4209b257f3706992c059c836cc42ec7_jpg.rf.ed76056e3061801af1c2cdf46bea57fc.jpg  \n",
            " extracting: /content/gdrive/My Drive/colab/pytorch-YOLOv4/data_unzip/train/871597c145446cf58c1c2dd7db988864_jpg.rf.dfe014e3493447cc19e30bb97c00239a.jpg  \n",
            " extracting: /content/gdrive/My Drive/colab/pytorch-YOLOv4/data_unzip/train/6ba74e310dd824af891d057d674cedb9_jpg.rf.f100b00ae7151f33ca508ed17be6e7c6.jpg  \n",
            " extracting: /content/gdrive/My Drive/colab/pytorch-YOLOv4/data_unzip/train/d415969922564f317be0d1433330626f_jpg.rf.ec44988c2ee838f90f37cc64ea149905.jpg  \n",
            " extracting: /content/gdrive/My Drive/colab/pytorch-YOLOv4/data_unzip/train/31419854b103ca6becc4cc394c449e95_jpg.rf.ed358e1365d7de3a15257d87752c51b9.jpg  \n",
            " extracting: /content/gdrive/My Drive/colab/pytorch-YOLOv4/data_unzip/train/beb11566e59775b61f0ca369952067cc_jpg.rf.f2f174dcc0acd5991b822c5ca1a6735a.jpg  \n",
            " extracting: /content/gdrive/My Drive/colab/pytorch-YOLOv4/data_unzip/train/239c409d5c09b493fed01a70a3cda4bc_jpg.rf.f8f5bf822dba445148cf5271f1a7e34d.jpg  \n",
            " extracting: /content/gdrive/My Drive/colab/pytorch-YOLOv4/data_unzip/train/54a90aab8c73562975cc560d51a9d2d1_jpg.rf.f5700e30dc924ed32d1b7e34cff05c04.jpg  \n",
            " extracting: /content/gdrive/My Drive/colab/pytorch-YOLOv4/data_unzip/train/f52e1873b8583f8bf4f7ddf6e9649f07_jpg.rf.e9f936cd405597e058a5d399d094078d.jpg  \n",
            " extracting: /content/gdrive/My Drive/colab/pytorch-YOLOv4/data_unzip/train/7ee8d13861bdc45e40a7cfe190a8d8a6_jpg.rf.f89633224312e1c80ce73c4e05c65051.jpg  \n",
            " extracting: /content/gdrive/My Drive/colab/pytorch-YOLOv4/data_unzip/train/c3e3b51f63d344be346e6e425f30f87a_jpg.rf.f88e789167d309e0381aa2c9d4a6e322.jpg  \n",
            " extracting: /content/gdrive/My Drive/colab/pytorch-YOLOv4/data_unzip/train/3057eba7e9b0221ddbdc96a01f39ab79_jpg.rf.f5ca64930fd980c194483c8a3bb6a54e.jpg  \n",
            " extracting: /content/gdrive/My Drive/colab/pytorch-YOLOv4/data_unzip/train/9c5fb0c3cfd7b334a247cd87c139e8e6_jpg.rf.e515316111e554f86ea49e12faeda7a4.jpg  \n",
            " extracting: /content/gdrive/My Drive/colab/pytorch-YOLOv4/data_unzip/train/65ba27557c78850168b1df70a3ce4ff7_jpg.rf.ef005cf77310609923ff2fb962581194.jpg  \n",
            " extracting: /content/gdrive/My Drive/colab/pytorch-YOLOv4/data_unzip/train/0115e4df73475b550e5c6f7a88b2474f_jpg.rf.dfa577bd4af5440d689046c2f48bc48e.jpg  \n",
            " extracting: /content/gdrive/My Drive/colab/pytorch-YOLOv4/data_unzip/train/040f2bcba5afce3afafdd5bbf36d2ca5_jpg.rf.fe6d0720247b60f2c6e1cda98fd00cab.jpg  \n",
            " extracting: /content/gdrive/My Drive/colab/pytorch-YOLOv4/data_unzip/valid/8ec14357f5f18fb98db86e0283623150_jpg.rf.336c6e5901f05467bb6b35b785a73949.jpg  \n",
            " extracting: /content/gdrive/My Drive/colab/pytorch-YOLOv4/data_unzip/valid/fb7d97265a22bb1c1f908dadc6f9e7dc_jpg.rf.2bb7d12a905737aefab726bddf073b15.jpg  \n",
            " extracting: /content/gdrive/My Drive/colab/pytorch-YOLOv4/data_unzip/valid/6a41b6c8201604216ad196f842c6a2c6_jpg.rf.0d52407ef16693d64cff0668cf321247.jpg  \n",
            " extracting: /content/gdrive/My Drive/colab/pytorch-YOLOv4/data_unzip/valid/55be99616328f83dcbfe8c18e1387c0e_jpg.rf.36754078c78920a961830dfaaf13e0a6.jpg  \n",
            " extracting: /content/gdrive/My Drive/colab/pytorch-YOLOv4/data_unzip/valid/1be2a621f309c7482e9a79ad5b23ecbe_jpg.rf.5110719a49957c38e3e509c0f644ee8a.jpg  \n",
            " extracting: /content/gdrive/My Drive/colab/pytorch-YOLOv4/data_unzip/valid/c1f800417bc42263d141b5ed785e7707_jpg.rf.392e40659901da081aa711c6e9a59af8.jpg  \n",
            " extracting: /content/gdrive/My Drive/colab/pytorch-YOLOv4/data_unzip/valid/6e2dd4604b3a51d9be11b8809ed03803_jpg.rf.667ebfe34e7fa7194e71635b3364dcbb.jpg  \n",
            " extracting: /content/gdrive/My Drive/colab/pytorch-YOLOv4/data_unzip/valid/18742c87a03866e042c5659ba04d1180_jpg.rf.4424e6a8a441a8389fa7d8691955c4c4.jpg  \n",
            " extracting: /content/gdrive/My Drive/colab/pytorch-YOLOv4/data_unzip/valid/3aafc2d38807dddd1b43a54cb70f500d_jpg.rf.561ea7a7774fc0087608ace4aa379998.jpg  \n",
            " extracting: /content/gdrive/My Drive/colab/pytorch-YOLOv4/data_unzip/valid/c20ca9283ea51ac7707905894a7da703_jpg.rf.365ea9253c49e1145082f3893571bc9a.jpg  \n",
            " extracting: /content/gdrive/My Drive/colab/pytorch-YOLOv4/data_unzip/valid/abd65798d9952a27e087710eb8bddf32_jpg.rf.4a213f8a0a18bbd6a6445a5c78b72846.jpg  \n",
            " extracting: /content/gdrive/My Drive/colab/pytorch-YOLOv4/data_unzip/valid/05ad7223827a29a8283f6c4b2490f52f_jpg.rf.5039e263463db5153a0dd8439b462588.jpg  \n",
            " extracting: /content/gdrive/My Drive/colab/pytorch-YOLOv4/data_unzip/valid/0c09b79cff39932c59ecc745dd827906_jpg.rf.24b462cfe4b4e7dba97d478de07b9115.jpg  \n",
            " extracting: /content/gdrive/My Drive/colab/pytorch-YOLOv4/data_unzip/valid/793c79d55c8a252b7a954d074b1d6498_jpg.rf.3af5b0c88f75574c8733ad6a9a511285.jpg  \n",
            " extracting: /content/gdrive/My Drive/colab/pytorch-YOLOv4/data_unzip/valid/c5172afbdad90854b3d0f21a923c0c69_jpg.rf.6645c6f01feff2a87722629cb9ab963a.jpg  \n",
            " extracting: /content/gdrive/My Drive/colab/pytorch-YOLOv4/data_unzip/train/d33c33de41dbe1a95a43212c58fd12b7_jpg.rf.fca260fa864f5898d61bee78b5f152e1.jpg  \n",
            " extracting: /content/gdrive/My Drive/colab/pytorch-YOLOv4/data_unzip/valid/578029c06939a788cd5606ad17b49fb9_jpg.rf.22a4229d97b9d564fcb42140b375c401.jpg  \n",
            " extracting: /content/gdrive/My Drive/colab/pytorch-YOLOv4/data_unzip/valid/0af4c8f0fb5d899e9d1c8d34b2efa980_jpg.rf.57b0654146d453d6cae13cdddc229aa2.jpg  \n",
            " extracting: /content/gdrive/My Drive/colab/pytorch-YOLOv4/data_unzip/valid/e53bf8a0e692a4ccd5f1dc2bc19e7751_jpg.rf.469657a97d400016f17a01731956ed43.jpg  \n",
            " extracting: /content/gdrive/My Drive/colab/pytorch-YOLOv4/data_unzip/valid/3e0c67f38992fe16dfc163f7f5336263_jpg.rf.4d79300bd37d2259d21ba88499057193.jpg  \n",
            " extracting: /content/gdrive/My Drive/colab/pytorch-YOLOv4/data_unzip/valid/31b83afa654d5dd874c3f0111126ab7f_jpg.rf.578d68b987125c78d5974e1ba6384358.jpg  \n",
            " extracting: /content/gdrive/My Drive/colab/pytorch-YOLOv4/data_unzip/train/93557fc861304f7753089c244bc1e33e_jpg.rf.ffbb0460f28c29ea6c2f0e5ff165550c.jpg  \n",
            " extracting: /content/gdrive/My Drive/colab/pytorch-YOLOv4/data_unzip/valid/9453c2097cb4ccc676e273939894b3da_jpg.rf.66f387eef4e1095bd8ceb9bf80829208.jpg  \n",
            " extracting: /content/gdrive/My Drive/colab/pytorch-YOLOv4/data_unzip/valid/ff33a2df1da63c736d4cf28473d3c220_jpg.rf.4e74afa93891c4a01b95784eb9a9268d.jpg  \n",
            " extracting: /content/gdrive/My Drive/colab/pytorch-YOLOv4/data_unzip/valid/d6e283a49b0395a6d5867c9e98e32045_jpg.rf.98019c4213f1dfdb5e6ad1650216f5b6.jpg  \n",
            " extracting: /content/gdrive/My Drive/colab/pytorch-YOLOv4/data_unzip/valid/64061fd2e0e35bdf9ac4681eddf5fa2a_jpg.rf.6857b7f054d184aa9404720b55f05a2b.jpg  \n",
            " extracting: /content/gdrive/My Drive/colab/pytorch-YOLOv4/data_unzip/valid/d9e1d53f5e3a4433421dcd591f76f869_jpg.rf.83b108a81003f948521c89774adc87f3.jpg  \n",
            " extracting: /content/gdrive/My Drive/colab/pytorch-YOLOv4/data_unzip/valid/eca42980852e6c5db10ee84aac23f9c6_jpg.rf.746317745a1bb86f4da60bfd8eb2db36.jpg  \n",
            " extracting: /content/gdrive/My Drive/colab/pytorch-YOLOv4/data_unzip/valid/7e862b85e33cd247ed66447d129e5fb4_jpg.rf.abee398f18046b4d243ac69d762138a2.jpg  \n",
            " extracting: /content/gdrive/My Drive/colab/pytorch-YOLOv4/data_unzip/valid/d3b9309d00a2b671407b918ea867a935_jpg.rf.9d8fcbced3aa4c09446abb6ed0c29233.jpg  \n",
            " extracting: /content/gdrive/My Drive/colab/pytorch-YOLOv4/data_unzip/valid/33b66ede234715fb46db40b33c4e26c1_jpg.rf.6d0e742174ceaac44bb8796a960f9236.jpg  \n",
            " extracting: /content/gdrive/My Drive/colab/pytorch-YOLOv4/data_unzip/valid/15cc23c777b00d0e123f9df468f2852b_jpg.rf.69a7ec25c26ca626a9c3d3455989715a.jpg  \n",
            " extracting: /content/gdrive/My Drive/colab/pytorch-YOLOv4/data_unzip/valid/0d9afc3d23392c3958f53d7fe71fd2f1_jpg.rf.907162426130ed7370ad72200fdd3bc0.jpg  \n",
            " extracting: /content/gdrive/My Drive/colab/pytorch-YOLOv4/data_unzip/valid/e7edc4f1b8d3cc1069b96d0358e066c9_jpg.rf.a3de5df2eba3d7ce93e6f4bc5f9d8f3f.jpg  \n",
            " extracting: /content/gdrive/My Drive/colab/pytorch-YOLOv4/data_unzip/valid/7e97f49e613a59a70b833e4c0b2c1c04_jpg.rf.84c0d1ef94637613ccabfb825d647a41.jpg  \n",
            " extracting: /content/gdrive/My Drive/colab/pytorch-YOLOv4/data_unzip/valid/4b8f93069270a9f7bb523518a5088b9e_jpg.rf.7d625433b528e65c579f62eee62b0847.jpg  \n",
            " extracting: /content/gdrive/My Drive/colab/pytorch-YOLOv4/data_unzip/valid/97ed198b00b5491747d3b425df8e7096_jpg.rf.aeabc0f0f9a1bb963c3001f4903ac38a.jpg  \n",
            " extracting: /content/gdrive/My Drive/colab/pytorch-YOLOv4/data_unzip/valid/aec1aa6773dbbe004554f405cdef2bea_jpg.rf.7c2ac24381a7b22374523a201c21467c.jpg  \n",
            " extracting: /content/gdrive/My Drive/colab/pytorch-YOLOv4/data_unzip/valid/5d492613cf4021eb387513e2635cb3aa_jpg.rf.8ea3718b5ca86bbaeadf248887f74fdf.jpg  \n",
            " extracting: /content/gdrive/My Drive/colab/pytorch-YOLOv4/data_unzip/valid/26fa37995fa5b18ec40e0a94e6d91104_jpg.rf.ae716df13c86ffbaf972aed9fa4e08ef.jpg  \n",
            " extracting: /content/gdrive/My Drive/colab/pytorch-YOLOv4/data_unzip/valid/424d6506342fa2471e71586675ed092c_jpg.rf.988e7de42f51f3f688417fa6b924af55.jpg  \n",
            " extracting: /content/gdrive/My Drive/colab/pytorch-YOLOv4/data_unzip/valid/688232b6869708fe78907898f8f8b5f9_jpg.rf.6bb2e677c81378bf20e3e43710e505e9.jpg  \n",
            " extracting: /content/gdrive/My Drive/colab/pytorch-YOLOv4/data_unzip/valid/ca6484c259f286c5bdf1afefc868b753_jpg.rf.af40757deb44de14e90bf3a76b070028.jpg  \n",
            " extracting: /content/gdrive/My Drive/colab/pytorch-YOLOv4/data_unzip/valid/d114edc5cb4cae0ceb2f152afd15f57d_jpg.rf.a47ecb8ab8be13c4449100793c00ba58.jpg  \n",
            " extracting: /content/gdrive/My Drive/colab/pytorch-YOLOv4/data_unzip/valid/495019998442ddf85b59e387d4916cd3_jpg.rf.ba08d9a498ecad855a31f6c64f7ffa96.jpg  \n",
            " extracting: /content/gdrive/My Drive/colab/pytorch-YOLOv4/data_unzip/valid/bb0de9761d16eee258ae09d8de32002c_jpg.rf.c27c48aeaf45d2b9cd8aa28ce82f5209.jpg  \n",
            " extracting: /content/gdrive/My Drive/colab/pytorch-YOLOv4/data_unzip/valid/5c19d3260762f5daa632d952bc0074d6_jpg.rf.ae475688a20af8344bcd8d9b7e37e853.jpg  \n",
            " extracting: /content/gdrive/My Drive/colab/pytorch-YOLOv4/data_unzip/valid/73e6a751c50604d017541c11b28d8417_jpg.rf.be0202c45e3c0e0936cfa30813f88d6f.jpg  \n",
            " extracting: /content/gdrive/My Drive/colab/pytorch-YOLOv4/data_unzip/valid/6859628a422c1b72be8b074841cd943e_jpg.rf.dc8c083b42296b8c70664349805d98f3.jpg  \n",
            " extracting: /content/gdrive/My Drive/colab/pytorch-YOLOv4/data_unzip/valid/3312e3bb60e338e9c1a614f0f8960dd8_jpg.rf.cc13ce4af944d2aeb4afaa7959fd72fd.jpg  \n",
            " extracting: /content/gdrive/My Drive/colab/pytorch-YOLOv4/data_unzip/valid/ec418cafd39d7c5a69cc0642a08b2a08_jpg.rf.f246d01cc6a67541b8a6d383c197e7dc.jpg  \n",
            " extracting: /content/gdrive/My Drive/colab/pytorch-YOLOv4/data_unzip/valid/d9ef98145d7d35393c75a51331a20e2c_jpg.rf.d045b29b13d25132e1f7b23a02161819.jpg  \n",
            " extracting: /content/gdrive/My Drive/colab/pytorch-YOLOv4/data_unzip/valid/86afe95de5471af5cef08e6ae4d9acbb_jpg.rf.c90d58d63f997b978c67626c194fc2bd.jpg  \n",
            " extracting: /content/gdrive/My Drive/colab/pytorch-YOLOv4/data_unzip/valid/1b7c1c9570e900f75eb974f99cbb3c60_jpg.rf.cf50b35db1eb4d6232850d24c5187794.jpg  \n",
            " extracting: /content/gdrive/My Drive/colab/pytorch-YOLOv4/data_unzip/valid/3baf85c957b9d28a16c0b65cb2ef0d29_jpg.rf.825ae30ea5a63347bf69def9d1963bcb.jpg  \n",
            " extracting: /content/gdrive/My Drive/colab/pytorch-YOLOv4/data_unzip/valid/d4f7caf01359b9a757c930140f746fad_jpg.rf.ccdaecd58d74f3bc49babbde826e2e60.jpg  \n",
            " extracting: /content/gdrive/My Drive/colab/pytorch-YOLOv4/data_unzip/valid/e1616dc9962fed075576ac4ea3553f51_jpg.rf.de48bd9b3a1fbb4e967dc60f36fabce6.jpg  \n",
            " extracting: /content/gdrive/My Drive/colab/pytorch-YOLOv4/data_unzip/valid/0b2252c93c53e1b2e61d485b22328e2e_jpg.rf.c61f1858920b2e783ee048a397a59d02.jpg  \n",
            " extracting: /content/gdrive/My Drive/colab/pytorch-YOLOv4/data_unzip/valid/57d1d1fb35ed875f9e770660bb03b6d7_jpg.rf.ee46450ad0ef6a5c64d977a5f1c755f2.jpg  \n",
            " extracting: /content/gdrive/My Drive/colab/pytorch-YOLOv4/data_unzip/valid/302e7c10664be32b4fc000452149027c_jpg.rf.cc08ac2db1a22e4b2d0ce14f66015dce.jpg  \n",
            " extracting: /content/gdrive/My Drive/colab/pytorch-YOLOv4/data_unzip/test/_annotations.txt  \n",
            " extracting: /content/gdrive/My Drive/colab/pytorch-YOLOv4/data_unzip/test/_classes.txt  \n",
            " extracting: /content/gdrive/My Drive/colab/pytorch-YOLOv4/data_unzip/train/_annotations.txt  \n",
            " extracting: /content/gdrive/My Drive/colab/pytorch-YOLOv4/data_unzip/train/_classes.txt  \n",
            " extracting: /content/gdrive/My Drive/colab/pytorch-YOLOv4/data_unzip/valid/_annotations.txt  \n",
            " extracting: /content/gdrive/My Drive/colab/pytorch-YOLOv4/data_unzip/valid/_classes.txt  \n",
            " extracting: /content/gdrive/My Drive/colab/pytorch-YOLOv4/data_unzip/README.roboflow.txt  \n",
            " extracting: /content/gdrive/My Drive/colab/pytorch-YOLOv4/data_unzip/README.dataset.txt  \n"
          ]
        }
      ],
      "source": [
        "# Step 04.1.1 Unzip dataset / manual in Google Drive\n",
        "\n",
        "!rm -rf /content/gdrive/My\\ Drive/colab/pytorch-YOLOv4/data_unzip\n",
        "!unzip /content/gdrive/My\\ Drive/colab/data/ChessPieces.v1-416x416auto-orient.yolov4pytorch.zip -d /content/gdrive/My\\ Drive/colab/pytorch-YOLOv4/data_unzip"
      ]
    },
    {
      "cell_type": "code",
      "execution_count": 7,
      "metadata": {
        "colab": {
          "base_uri": "https://localhost:8080/"
        },
        "id": "6q8eVlCtMo2F",
        "outputId": "53b757ad-b899-4a40-db2d-e6f52f66c07a"
      },
      "outputs": [
        {
          "name": "stdout",
          "output_type": "stream",
          "text": [
            "/content/gdrive/My Drive/colab/pytorch-YOLOv4\n"
          ]
        }
      ],
      "source": [
        "# Step 04.1.2 Prepare dataset & weights (by unzip file)\n",
        "\n",
        "%cd /content/gdrive/My\\ Drive/colab/pytorch-YOLOv4\n",
        "\n",
        "!rm -rf train\n",
        "%mkdir train\n",
        "%cp /content/gdrive/My\\ Drive/colab/pytorch-YOLOv4/data_unzip/train/_annotations.txt train/train.txt\n",
        "%cp /content/gdrive/My\\ Drive/colab/pytorch-YOLOv4/data_unzip/train/_classes.txt train/_classes.txt\n",
        "%cp /content/gdrive/My\\ Drive/colab/pytorch-YOLOv4/data_unzip/train/_annotations.txt train.txt\n",
        "%cp /content/gdrive/My\\ Drive/colab/pytorch-YOLOv4/data_unzip/train/*.jpg train/\n",
        "%cp /content/gdrive/My\\ Drive/colab/pytorch-YOLOv4/data_unzip/valid/*.jpg train/\n",
        "\n",
        "!rm -rf data\n",
        "%mkdir data\n",
        "%cp /content/gdrive/My\\ Drive/colab/pytorch-YOLOv4/data_unzip/valid/_annotations.txt data/val.txt\n",
        "\n",
        "!rm -rf test\n",
        "%mkdir test\n",
        "%cp /content/gdrive/My\\ Drive/colab/pytorch-YOLOv4/data_unzip/test/_classes.txt test/_classes.txt\n",
        "%cp /content/gdrive/My\\ Drive/colab/pytorch-YOLOv4/data_unzip/test/*.jpg test/"
      ]
    },
    {
      "cell_type": "code",
      "execution_count": 8,
      "metadata": {
        "colab": {
          "base_uri": "https://localhost:8080/"
        },
        "id": "YUBVHi9tl2TT",
        "outputId": "bfb365cc-593d-4bc4-dc82-1ad859ddaabb"
      },
      "outputs": [
        {
          "name": "stdout",
          "output_type": "stream",
          "text": [
            "12\n"
          ]
        }
      ],
      "source": [
        "# Step 04.3 Check the number of classes\n",
        "\n",
        "def file_len(fname):\n",
        "  with open(fname) as f:\n",
        "    for i, l in enumerate(f):\n",
        "      pass\n",
        "  return i + 1\n",
        "\n",
        "num_classes = file_len('train/_classes.txt')\n",
        "print(num_classes)"
      ]
    },
    {
      "cell_type": "markdown",
      "metadata": {
        "id": "0hTN2k7ltS6P"
      },
      "source": [
        "# Step 06. Training"
      ]
    },
    {
      "cell_type": "code",
      "execution_count": 9,
      "metadata": {
        "colab": {
          "base_uri": "https://localhost:8080/"
        },
        "id": "gixAX-nHr1JX",
        "outputId": "c4e79a6f-2e53-4675-b2cb-f253f74e6d52"
      },
      "outputs": [
        {
          "name": "stdout",
          "output_type": "stream",
          "text": [
            "cp: cannot stat '/content/gdrive/My Drive/colab/weights/yolov4.conv.137.pth': No such file or directory\n"
          ]
        }
      ],
      "source": [
        "# prepare pre-trained weights\n",
        "\n",
        "# copy converted pre-trained weights\n",
        "%cp /content/gdrive/My\\ Drive/colab/weights/yolov4.conv.137.pth yolov4.conv.137.pth"
      ]
    },
    {
      "cell_type": "code",
      "execution_count": null,
      "metadata": {
        "colab": {
          "base_uri": "https://localhost:8080/",
          "height": 1000
        },
        "id": "OeSEi6HxMwWT",
        "outputId": "26a9261d-0c13-4221-a6bb-89b7dd288426"
      },
      "outputs": [
        {
          "name": "stdout",
          "output_type": "stream",
          "text": [
            "/content/gdrive/My Drive/colab/pytorch-YOLOv4\n",
            "log file path:log/log_2020-08-01_13-49-32.txt\n",
            "2020-08-01 13:49:32,867 train.py[line:435] INFO: Using device cuda\n",
            "2020-08-01 13:49:42,101 train.py[line:282] INFO: Starting training:\n",
            "        Epochs:          25\n",
            "        Batch size:      4\n",
            "        Subdivisions:    1\n",
            "        Learning rate:   0.001\n",
            "        Training size:   202\n",
            "        Validation size: 58\n",
            "        Checkpoints:     True\n",
            "        Device:          cuda\n",
            "        Images size:     608\n",
            "        Optimizer:       adam\n",
            "        Dataset classes: 12\n",
            "        Train label path:train.txt\n",
            "        Pretrained:\n",
            "    \n",
            "Epoch 1/25:   0%|        | 0/202 [00:00<?, ?img/s]/usr/local/lib/python3.6/dist-packages/torch/nn/_reduction.py:43: UserWarning: size_average and reduce args will be deprecated, please use reduction='sum' instead.\n",
            "  warnings.warn(warning.format(ret))\n",
            "Epoch 1/25:  38%|▍| 76/202 [00:20<00:24,  5.24img//usr/local/lib/python3.6/dist-packages/torch/optim/lr_scheduler.py:224: UserWarning: To get the last learning rate computed by the scheduler, please use `get_last_lr()`.\n",
            "  warnings.warn(\"To get the last learning rate computed by the scheduler, \"\n",
            "2020-08-01 13:50:03,061 train.py[line:353] INFO: Train step_20: loss : 63878.44140625,loss xy : 184.53836059570312,loss wh : 30.010799407958984,loss obj : 63107.765625，loss cls : 556.1234130859375,loss l2 : 23050.6875,lr : 1.6000000000000002e-10\n",
            "Epoch 1/25:  77%|▊| 156/202 [00:35<00:07,  5.79img2020-08-01 13:50:17,832 train.py[line:353] INFO: Train step_40: loss : 63571.38671875,loss xy : 89.40301513671875,loss wh : 12.150550842285156,loss obj : 63199.51171875，loss cls : 270.3207702636719,loss l2 : 22941.23046875,lr : 2.5600000000000003e-09\n",
            "Epoch 1/25:  99%|▉| 200/202 [00:42<00:00,  5.75img2020-08-01 13:50:26,016 train.py[line:364] INFO: Checkpoint 1 saved !\n",
            "Epoch 1/25:  99%|▉| 200/202 [00:43<00:00,  4.55img\n",
            "Epoch 2/25:  18%|▏| 36/202 [00:12<00:46,  3.60img/2020-08-01 13:50:39,472 train.py[line:353] INFO: Train step_60: loss : 63543.2890625,loss xy : 142.2384490966797,loss wh : 15.08863639831543,loss obj : 62950.921875，loss cls : 435.03900146484375,loss l2 : 22873.232421875,lr : 1.2959999999999998e-08\n",
            "Epoch 2/25:  57%|▌| 116/202 [00:28<00:16,  5.11img2020-08-01 13:50:54,902 train.py[line:353] INFO: Train step_80: loss : 64183.16015625,loss xy : 277.12353515625,loss wh : 31.70588493347168,loss obj : 63049.046875，loss cls : 825.2862548828125,loss l2 : 23122.4375,lr : 4.0960000000000004e-08\n",
            "Epoch 2/25:  97%|▉| 196/202 [00:42<00:01,  5.59img2020-08-01 13:51:09,243 train.py[line:353] INFO: Train step_100: loss : 63680.91015625,loss xy : 174.5347900390625,loss wh : 45.92730712890625,loss obj : 62925.9453125，loss cls : 534.5025024414062,loss l2 : 22960.822265625,lr : 1.0000000000000002e-07\n",
            "Epoch 2/25:  99%|▉| 200/202 [00:43<00:00,  5.58img2020-08-01 13:51:10,405 train.py[line:364] INFO: Checkpoint 2 saved !\n",
            "Epoch 2/25:  99%|▉| 200/202 [00:44<00:00,  4.51img\n",
            "Epoch 3/25:  38%|▍| 76/202 [00:19<00:25,  4.85img/2020-08-01 13:51:31,023 train.py[line:353] INFO: Train step_120: loss : 63365.33984375,loss xy : 67.04403686523438,loss wh : 6.375134468078613,loss obj : 63093.6484375，loss cls : 198.27200317382812,loss l2 : 22837.078125,lr : 2.0735999999999997e-07\n",
            "Epoch 3/25:  77%|▊| 156/202 [00:35<00:08,  5.29img2020-08-01 13:51:46,701 train.py[line:353] INFO: Train step_140: loss : 63951.63671875,loss xy : 196.32568359375,loss wh : 57.4049072265625,loss obj : 63108.984375，loss cls : 588.9225463867188,loss l2 : 23119.990234375,lr : 3.841600000000001e-07\n",
            "Epoch 3/25:  99%|▉| 200/202 [00:43<00:00,  5.25img2020-08-01 13:51:55,399 train.py[line:364] INFO: Checkpoint 3 saved !\n",
            "Epoch 3/25:  99%|▉| 200/202 [00:44<00:00,  4.44img\n",
            "Epoch 4/25:  18%|▏| 36/202 [00:12<00:45,  3.61img/2020-08-01 13:52:08,731 train.py[line:353] INFO: Train step_160: loss : 63412.72265625,loss xy : 107.84325408935547,loss wh : 17.47254753112793,loss obj : 62961.87890625，loss cls : 325.52581787109375,loss l2 : 22861.322265625,lr : 6.553600000000001e-07\n",
            "Epoch 4/25:  57%|▌| 116/202 [00:29<00:18,  4.74img2020-08-01 13:52:25,336 train.py[line:353] INFO: Train step_180: loss : 63873.37890625,loss xy : 324.7384033203125,loss wh : 50.262847900390625,loss obj : 62528.8828125，loss cls : 969.494384765625,loss l2 : 22950.5234375,lr : 1.0497599999999998e-06\n",
            "Epoch 4/25:  97%|▉| 196/202 [00:44<00:01,  5.31img2020-08-01 13:52:40,771 train.py[line:353] INFO: Train step_200: loss : 63261.34375,loss xy : 148.66000366210938,loss wh : 15.739469528198242,loss obj : 62646.03515625，loss cls : 450.91064453125,loss l2 : 22738.037109375,lr : 1.6000000000000004e-06\n",
            "Epoch 4/25:  99%|▉| 200/202 [00:45<00:00,  5.33img2020-08-01 13:52:41,923 train.py[line:364] INFO: Checkpoint 4 saved !\n",
            "Epoch 4/25:  99%|▉| 200/202 [00:46<00:00,  4.30img\n",
            "Epoch 5/25:  38%|▍| 76/202 [00:19<00:24,  5.14img/2020-08-01 13:53:02,398 train.py[line:353] INFO: Train step_220: loss : 63336.9609375,loss xy : 237.04315185546875,loss wh : 83.95220947265625,loss obj : 62311.3671875，loss cls : 704.5966796875,loss l2 : 22803.107421875,lr : 2.34256e-06\n",
            "Epoch 5/25:  77%|▊| 156/202 [00:35<00:08,  5.27img2020-08-01 13:53:18,225 train.py[line:353] INFO: Train step_240: loss : 63083.3515625,loss xy : 260.653076171875,loss wh : 28.907939910888672,loss obj : 62021.140625，loss cls : 772.6492309570312,loss l2 : 22583.2890625,lr : 3.3177599999999996e-06\n",
            "Epoch 5/25:  99%|▉| 200/202 [00:43<00:00,  5.27img2020-08-01 13:53:26,952 train.py[line:364] INFO: Checkpoint 5 saved !\n",
            "Epoch 5/25:  99%|▉| 200/202 [00:45<00:00,  4.44img\n",
            "Epoch 6/25:  18%|▏| 36/202 [00:12<00:45,  3.65img/2020-08-01 13:53:40,370 train.py[line:353] INFO: Train step_260: loss : 62273.5078125,loss xy : 130.20919799804688,loss wh : 21.562164306640625,loss obj : 61731.65625，loss cls : 390.0804138183594,loss l2 : 22272.96875,lr : 4.569760000000001e-06\n",
            "Epoch 6/25:  57%|▌| 116/202 [00:28<00:17,  4.99img2020-08-01 13:53:56,368 train.py[line:353] INFO: Train step_280: loss : 61267.2578125,loss xy : 78.20355224609375,loss wh : 6.627002716064453,loss obj : 60959.0859375，loss cls : 223.3389892578125,loss l2 : 21796.45703125,lr : 6.146560000000002e-06\n",
            "Epoch 6/25:  97%|▉| 196/202 [00:44<00:01,  5.27img2020-08-01 13:54:11,732 train.py[line:353] INFO: Train step_300: loss : 60414.28515625,loss xy : 121.85057067871094,loss wh : 20.5214786529541,loss obj : 59910.55859375，loss cls : 361.3558654785156,loss l2 : 21362.658203125,lr : 8.1e-06\n",
            "Epoch 6/25:  99%|▉| 200/202 [00:44<00:00,  5.29img2020-08-01 13:54:12,886 train.py[line:364] INFO: Checkpoint 6 saved !\n",
            "Epoch 6/25:  99%|▉| 200/202 [00:45<00:00,  4.35img\n",
            "Epoch 7/25:  38%|▍| 76/202 [00:20<00:25,  5.03img/2020-08-01 13:54:34,516 train.py[line:353] INFO: Train step_320: loss : 58800.92578125,loss xy : 178.23585510253906,loss wh : 15.187555313110352,loss obj : 58096.734375，loss cls : 510.7679443359375,loss l2 : 20507.568359375,lr : 1.0485760000000001e-05\n",
            "Epoch 7/25:  77%|▊| 156/202 [00:36<00:08,  5.14img2020-08-01 13:54:50,381 train.py[line:353] INFO: Train step_340: loss : 56999.640625,loss xy : 159.4419403076172,loss wh : 14.880327224731445,loss obj : 56369.390625，loss cls : 455.9306945800781,loss l2 : 19642.44140625,lr : 1.3363360000000005e-05\n",
            "Epoch 7/25:  99%|▉| 200/202 [00:45<00:00,  5.32img2020-08-01 13:54:59,153 train.py[line:364] INFO: Checkpoint 7 saved !\n",
            "Epoch 7/25:  99%|▉| 200/202 [00:46<00:00,  4.32img\n",
            "Epoch 8/25:  18%|▏| 36/202 [00:12<00:45,  3.64img/2020-08-01 13:55:12,540 train.py[line:353] INFO: Train step_360: loss : 54955.58203125,loss xy : 92.30908966064453,loss wh : 14.948670387268066,loss obj : 54581.85546875，loss cls : 266.4669189453125,loss l2 : 18722.18359375,lr : 1.6796159999999997e-05\n",
            "Epoch 8/25:  57%|▌| 116/202 [00:28<00:17,  4.96img2020-08-01 13:55:28,427 train.py[line:353] INFO: Train step_380: loss : 52915.83203125,loss xy : 114.23915100097656,loss wh : 11.261314392089844,loss obj : 52467.75390625，loss cls : 322.5767822265625,loss l2 : 17717.251953125,lr : 2.085136e-05\n",
            "Epoch 8/25:  97%|▉| 196/202 [00:43<00:01,  5.33img2020-08-01 13:55:43,709 train.py[line:353] INFO: Train step_400: loss : 50179.58984375,loss xy : 36.54243850708008,loss wh : 3.0883936882019043,loss obj : 50042.53125，loss cls : 97.430908203125,loss l2 : 16466.19921875,lr : 2.5600000000000006e-05\n",
            "Epoch 8/25:  99%|▉| 200/202 [00:44<00:00,  5.38img2020-08-01 13:55:44,872 train.py[line:364] INFO: Checkpoint 8 saved !\n",
            "Epoch 8/25:  99%|▉| 200/202 [00:45<00:00,  4.37img\n",
            "Epoch 9/25:  38%|▍| 76/202 [00:20<00:26,  4.78img/2020-08-01 13:56:05,807 train.py[line:353] INFO: Train step_420: loss : 48521.9375,loss xy : 197.5626220703125,loss wh : 30.004356384277344,loss obj : 47759.21484375，loss cls : 535.1563720703125,loss l2 : 15611.5703125,lr : 3.111696e-05\n",
            "Epoch 9/25:  77%|▊| 156/202 [00:35<00:08,  5.36img2020-08-01 13:56:21,476 train.py[line:353] INFO: Train step_440: loss : 45441.0,loss xy : 49.24775314331055,loss wh : 4.683137893676758,loss obj : 45257.8125，loss cls : 129.2593536376953,loss l2 : 14228.4609375,lr : 3.748096e-05\n",
            "Epoch 9/25:  99%|▉| 200/202 [00:44<00:00,  5.14img2020-08-01 13:56:30,301 train.py[line:364] INFO: Checkpoint 9 saved !\n",
            "Epoch 9/25:  99%|▉| 200/202 [00:45<00:00,  4.40img\n",
            "Epoch 10/25:  18%|▏| 36/202 [00:11<00:44,  3.72img2020-08-01 13:56:42,965 train.py[line:353] INFO: Train step_460: loss : 42475.7265625,loss xy : 101.51595306396484,loss wh : 8.386518478393555,loss obj : 42109.359375，loss cls : 256.46380615234375,loss l2 : 12813.4169921875,lr : 4.477456000000001e-05\n",
            "Epoch 10/25:  57%|▌| 116/202 [00:27<00:16,  5.11im2020-08-01 13:56:58,810 train.py[line:353] INFO: Train step_480: loss : 41680.48828125,loss xy : 102.55955505371094,loss wh : 10.638446807861328,loss obj : 41288.55859375，loss cls : 278.7298889160156,loss l2 : 12433.4345703125,lr : 5.308415999999999e-05\n",
            "Epoch 10/25:  97%|▉| 196/202 [00:43<00:01,  5.29im2020-08-01 13:57:14,173 train.py[line:353] INFO: Train step_500: loss : 37938.328125,loss xy : 145.94329833984375,loss wh : 13.655059814453125,loss obj : 37408.1328125，loss cls : 370.59649658203125,loss l2 : 10731.1474609375,lr : 6.25e-05\n",
            "Epoch 10/25:  99%|▉| 200/202 [00:43<00:00,  5.29im2020-08-01 13:57:15,313 train.py[line:364] INFO: Checkpoint 10 saved !\n",
            "Epoch 10/25:  99%|▉| 200/202 [00:45<00:00,  4.44im\n",
            "Epoch 11/25:  38%|▍| 76/202 [00:19<00:25,  5.03img2020-08-01 13:57:36,032 train.py[line:353] INFO: Train step_520: loss : 34807.2421875,loss xy : 161.72109985351562,loss wh : 18.461971282958984,loss obj : 34226.7578125，loss cls : 400.30010986328125,loss l2 : 9364.1279296875,lr : 7.311616000000002e-05\n",
            "Epoch 11/25:  77%|▊| 156/202 [00:35<00:08,  5.19im2020-08-01 13:57:51,744 train.py[line:353] INFO: Train step_540: loss : 32245.2578125,loss xy : 208.6141357421875,loss wh : 8.43747615814209,loss obj : 31540.205078125，loss cls : 488.001708984375,loss l2 : 8263.533203125,lr : 8.503056000000002e-05\n",
            "Epoch 11/25:  99%|▉| 200/202 [00:43<00:00,  5.35im2020-08-01 13:58:00,396 train.py[line:364] INFO: Checkpoint 11 saved !\n",
            "Epoch 11/25:  99%|▉| 200/202 [00:45<00:00,  4.44im\n",
            "Epoch 12/25:  18%|▏| 36/202 [00:12<00:46,  3.59img2020-08-01 13:58:13,472 train.py[line:353] INFO: Train step_560: loss : 30174.197265625,loss xy : 110.8319091796875,loss wh : 17.034719467163086,loss obj : 29786.5703125，loss cls : 259.7593078613281,loss l2 : 7478.232421875,lr : 9.834496000000003e-05\n",
            "Epoch 12/25:  57%|▌| 116/202 [00:28<00:17,  4.92im2020-08-01 13:58:29,957 train.py[line:353] INFO: Train step_580: loss : 27355.384765625,loss xy : 91.54916381835938,loss wh : 6.851912498474121,loss obj : 27072.533203125，loss cls : 184.4519500732422,loss l2 : 6352.3671875,lr : 0.00011316495999999998\n",
            "Epoch 12/25:  97%|▉| 196/202 [00:44<00:01,  5.21im2020-08-01 13:58:45,235 train.py[line:353] INFO: Train step_600: loss : 25362.08984375,loss xy : 84.92671203613281,loss wh : 4.804047584533691,loss obj : 25107.28515625，loss cls : 165.0733184814453,loss l2 : 5576.25537109375,lr : 0.0001296\n",
            "Epoch 12/25:  99%|▉| 200/202 [00:44<00:00,  5.25im2020-08-01 13:58:46,368 train.py[line:364] INFO: Checkpoint 12 saved !\n",
            "Epoch 12/25:  99%|▉| 200/202 [00:45<00:00,  4.35im\n",
            "Epoch 13/25:  38%|▍| 76/202 [00:20<00:25,  4.92img2020-08-01 13:59:07,766 train.py[line:353] INFO: Train step_620: loss : 24498.357421875,loss xy : 41.398902893066406,loss wh : 2.15339994430542,loss obj : 24385.59765625，loss cls : 69.20709991455078,loss l2 : 5267.72509765625,lr : 0.00014776335999999997\n",
            "Epoch 13/25:  77%|▊| 156/202 [00:36<00:08,  5.19im2020-08-01 13:59:23,752 train.py[line:353] INFO: Train step_640: loss : 22860.427734375,loss xy : 122.82455444335938,loss wh : 3.5828752517700195,loss obj : 22535.783203125，loss cls : 198.23675537109375,loss l2 : 4661.1943359375,lr : 0.00016777216000000002\n",
            "Epoch 13/25:  99%|▉| 200/202 [00:44<00:00,  5.37im2020-08-01 13:59:32,321 train.py[line:364] INFO: Checkpoint 13 saved !\n",
            "Epoch 13/25:  99%|▉| 200/202 [00:45<00:00,  4.35im\n",
            "Epoch 14/25:  18%|▏| 36/202 [00:12<00:43,  3.80img2020-08-01 13:59:45,368 train.py[line:353] INFO: Train step_660: loss : 22179.982421875,loss xy : 97.35467529296875,loss wh : 21.39358901977539,loss obj : 21879.787109375，loss cls : 181.44769287109375,loss l2 : 4455.490234375,lr : 0.00018974736000000004\n",
            "Epoch 14/25:  57%|▌| 116/202 [00:28<00:17,  5.02im2020-08-01 14:00:01,178 train.py[line:353] INFO: Train step_680: loss : 20031.123046875,loss xy : 95.1889877319336,loss wh : 6.000921249389648,loss obj : 19777.728515625，loss cls : 152.20468139648438,loss l2 : 3704.927490234375,lr : 0.0002138137600000001\n",
            "Epoch 14/25:  97%|▉| 196/202 [00:43<00:01,  5.32im2020-08-01 14:00:16,451 train.py[line:353] INFO: Train step_700: loss : 18953.15234375,loss xy : 100.846923828125,loss wh : 12.79629898071289,loss obj : 18661.009765625，loss cls : 178.50033569335938,loss l2 : 3376.04638671875,lr : 0.00024009999999999995\n",
            "Epoch 14/25:  99%|▉| 200/202 [00:44<00:00,  5.33im2020-08-01 14:00:17,592 train.py[line:364] INFO: Checkpoint 14 saved !\n",
            "Epoch 14/25:  99%|▉| 200/202 [00:45<00:00,  4.42im\n",
            "Epoch 15/25:  38%|▍| 76/202 [00:19<00:25,  4.94img2020-08-01 14:00:37,894 train.py[line:353] INFO: Train step_720: loss : 17725.720703125,loss xy : 197.7890167236328,loss wh : 7.308789253234863,loss obj : 17219.591796875，loss cls : 301.031494140625,loss l2 : 2975.343017578125,lr : 0.00026873855999999996\n",
            "Epoch 15/25:  77%|▊| 156/202 [00:35<00:08,  5.21im2020-08-01 14:00:53,650 train.py[line:353] INFO: Train step_740: loss : 16322.72265625,loss xy : 112.32147216796875,loss wh : 5.935266494750977,loss obj : 16052.6767578125，loss cls : 151.78897094726562,loss l2 : 2573.80126953125,lr : 0.00029986575999999996\n",
            "Epoch 15/25:  99%|▉| 200/202 [00:43<00:00,  5.25im2020-08-01 14:01:02,412 train.py[line:364] INFO: Checkpoint 15 saved !\n",
            "Epoch 15/25:  99%|▉| 200/202 [00:44<00:00,  4.46im\n",
            "Epoch 16/25:  18%|▏| 36/202 [00:12<00:43,  3.82img2020-08-01 14:01:15,284 train.py[line:353] INFO: Train step_760: loss : 15455.1337890625,loss xy : 220.94873046875,loss wh : 13.316291809082031,loss obj : 14870.0537109375，loss cls : 350.8156433105469,loss l2 : 2348.676025390625,lr : 0.00033362176\n",
            "Epoch 16/25:  57%|▌| 116/202 [00:28<00:17,  4.95im2020-08-01 14:01:31,559 train.py[line:353] INFO: Train step_780: loss : 14187.919921875,loss xy : 182.28546142578125,loss wh : 12.637365341186523,loss obj : 13713.9814453125，loss cls : 279.01580810546875,loss l2 : 2024.4486083984375,lr : 0.00037015056000000006\n",
            "Epoch 16/25:  97%|▉| 196/202 [00:43<00:01,  5.20im2020-08-01 14:01:46,986 train.py[line:353] INFO: Train step_800: loss : 12561.1513671875,loss xy : 81.62226867675781,loss wh : 11.753519058227539,loss obj : 12357.869140625，loss cls : 109.90669250488281,loss l2 : 1630.214111328125,lr : 0.0004096000000000001\n",
            "Epoch 16/25:  99%|▉| 200/202 [00:44<00:00,  5.24im2020-08-01 14:01:48,199 train.py[line:364] INFO: Checkpoint 16 saved !\n",
            "Epoch 16/25:  99%|▉| 200/202 [00:45<00:00,  4.37im\n",
            "Epoch 17/25:  38%|▍| 76/202 [00:19<00:25,  4.91img2020-08-01 14:02:08,658 train.py[line:353] INFO: Train step_820: loss : 11653.9833984375,loss xy : 99.5185775756836,loss wh : 16.252605438232422,loss obj : 11399.4072265625，loss cls : 138.80516052246094,loss l2 : 1436.312744140625,lr : 0.0004521217599999999\n",
            "Epoch 17/25:  77%|▊| 156/202 [00:35<00:08,  5.28im2020-08-01 14:02:24,292 train.py[line:353] INFO: Train step_840: loss : 10400.2431640625,loss xy : 97.25894927978516,loss wh : 1.7614710330963135,loss obj : 10180.015625，loss cls : 121.20706176757812,loss l2 : 1138.8773193359375,lr : 0.00049787136\n",
            "Epoch 17/25:  99%|▉| 200/202 [00:43<00:00,  5.21im2020-08-01 14:02:33,084 train.py[line:364] INFO: Checkpoint 17 saved !\n",
            "Epoch 17/25:  99%|▉| 200/202 [00:44<00:00,  4.46im\n",
            "Epoch 18/25:  18%|▏| 36/202 [00:12<00:43,  3.82img2020-08-01 14:02:46,343 train.py[line:353] INFO: Train step_860: loss : 9769.0146484375,loss xy : 162.2784881591797,loss wh : 16.791746139526367,loss obj : 9368.1298828125，loss cls : 221.8146514892578,loss l2 : 1053.939208984375,lr : 0.00054700816\n",
            "Epoch 18/25:  57%|▌| 116/202 [00:28<00:17,  5.02im2020-08-01 14:03:02,211 train.py[line:353] INFO: Train step_880: loss : 8776.85546875,loss xy : 199.73324584960938,loss wh : 5.6883625984191895,loss obj : 8301.2646484375，loss cls : 270.1693115234375,loss l2 : 861.5440063476562,lr : 0.00059969536\n",
            "Epoch 18/25:  97%|▉| 196/202 [00:43<00:01,  5.30im2020-08-01 14:03:17,505 train.py[line:353] INFO: Train step_900: loss : 7924.50732421875,loss xy : 175.55499267578125,loss wh : 12.102837562561035,loss obj : 7481.14599609375，loss cls : 255.70364379882812,loss l2 : 734.5377807617188,lr : 0.0006561000000000001\n",
            "Epoch 18/25:  99%|▉| 200/202 [00:44<00:00,  5.26im2020-08-01 14:03:19,053 train.py[line:364] INFO: Checkpoint 18 saved !\n",
            "Epoch 18/25:  99%|▉| 200/202 [00:45<00:00,  4.35im\n",
            "Epoch 19/25:  38%|▍| 76/202 [00:20<00:24,  5.12img2020-08-01 14:03:40,193 train.py[line:353] INFO: Train step_920: loss : 6841.58056640625,loss xy : 94.11909484863281,loss wh : 12.971259117126465,loss obj : 6612.86328125，loss cls : 121.62715148925781,loss l2 : 552.2852172851562,lr : 0.0007163929600000001\n",
            "Epoch 19/25:  77%|▊| 156/202 [00:36<00:08,  5.30im2020-08-01 14:03:56,051 train.py[line:353] INFO: Train step_940: loss : 7222.17236328125,loss xy : 176.4280242919922,loss wh : 9.378023147583008,loss obj : 6807.32763671875，loss cls : 229.03858947753906,loss l2 : 619.8912963867188,lr : 0.0007807489599999998\n",
            "Epoch 19/25:  99%|▉| 200/202 [00:44<00:00,  5.28im2020-08-01 14:04:04,887 train.py[line:364] INFO: Checkpoint 19 saved !\n",
            "Epoch 19/25:  99%|▉| 200/202 [00:45<00:00,  4.36im\n",
            "Epoch 20/25:  18%|▏| 36/202 [00:12<00:44,  3.75img2020-08-01 14:04:18,118 train.py[line:353] INFO: Train step_960: loss : 5777.4453125,loss xy : 96.77503967285156,loss wh : 29.958892822265625,loss obj : 5528.470703125，loss cls : 122.24054718017578,loss l2 : 452.03704833984375,lr : 0.0008493465599999999\n",
            "Epoch 20/25:  57%|▌| 116/202 [00:28<00:17,  5.02im2020-08-01 14:04:34,051 train.py[line:353] INFO: Train step_980: loss : 5042.99072265625,loss xy : 69.38934326171875,loss wh : 4.08151912689209,loss obj : 4880.2275390625，loss cls : 89.29229736328125,loss l2 : 317.11895751953125,lr : 0.0009223681599999999\n",
            "Epoch 20/25:  97%|▉| 196/202 [00:43<00:01,  5.24im2020-08-01 14:04:49,345 train.py[line:353] INFO: Train step_1000: loss : 4528.666015625,loss xy : 109.39691162109375,loss wh : 28.339256286621094,loss obj : 4255.486328125，loss cls : 135.44338989257812,loss l2 : 319.11968994140625,lr : 0.001\n",
            "Epoch 20/25:  99%|▉| 200/202 [00:44<00:00,  5.23im2020-08-01 14:04:50,453 train.py[line:364] INFO: Checkpoint 20 saved !\n",
            "Epoch 20/25:  99%|▉| 200/202 [00:45<00:00,  4.39im\n",
            "Epoch 21/25:  38%|▍| 76/202 [00:19<00:24,  5.07img2020-08-01 14:05:10,791 train.py[line:353] INFO: Train step_1020: loss : 4118.107421875,loss xy : 126.04076385498047,loss wh : 12.201492309570312,loss obj : 3821.202880859375，loss cls : 158.66221618652344,loss l2 : 257.455322265625,lr : 0.001\n",
            "Epoch 21/25:  77%|▊| 156/202 [00:35<00:08,  5.30im2020-08-01 14:05:26,387 train.py[line:353] INFO: Train step_1040: loss : 3753.3330078125,loss xy : 142.74859619140625,loss wh : 16.45282745361328,loss obj : 3415.703369140625，loss cls : 178.4282684326172,loss l2 : 239.4762725830078,lr : 0.001\n",
            "Epoch 21/25:  99%|▉| 200/202 [00:43<00:00,  5.36im2020-08-01 14:05:35,021 train.py[line:364] INFO: Checkpoint 21 saved !\n",
            "Epoch 21/25:  99%|▉| 200/202 [00:44<00:00,  4.49im\n",
            "Epoch 22/25:  18%|▏| 36/202 [00:11<00:46,  3.58img2020-08-01 14:05:47,482 train.py[line:353] INFO: Train step_1060: loss : 3497.574951171875,loss xy : 138.07931518554688,loss wh : 19.656917572021484,loss obj : 3171.79931640625，loss cls : 168.03929138183594,loss l2 : 228.07931518554688,lr : 0.001\n",
            "Epoch 22/25:  57%|▌| 116/202 [00:27<00:16,  5.07im2020-08-01 14:06:03,483 train.py[line:353] INFO: Train step_1080: loss : 3338.279541015625,loss xy : 192.80206298828125,loss wh : 16.421588897705078,loss obj : 2888.252685546875，loss cls : 240.80325317382812,loss l2 : 231.25405883789062,lr : 0.001\n",
            "Epoch 22/25:  97%|▉| 196/202 [00:43<00:01,  5.36im2020-08-01 14:06:18,786 train.py[line:353] INFO: Train step_1100: loss : 2726.447265625,loss xy : 78.39531707763672,loss wh : 3.0049781799316406,loss obj : 2559.380126953125，loss cls : 85.66683959960938,loss l2 : 117.3866195678711,lr : 0.001\n",
            "Epoch 22/25:  99%|▉| 200/202 [00:43<00:00,  5.38im2020-08-01 14:06:19,819 train.py[line:364] INFO: Checkpoint 22 saved !\n",
            "Epoch 22/25:  99%|▉| 200/202 [00:44<00:00,  4.46im\n",
            "Epoch 23/25:  38%|▍| 76/202 [00:19<00:25,  4.93img2020-08-01 14:06:40,220 train.py[line:353] INFO: Train step_1120: loss : 2741.477783203125,loss xy : 157.5774383544922,loss wh : 6.964609146118164,loss obj : 2383.56787109375，loss cls : 193.36795043945312,loss l2 : 154.02745056152344,lr : 0.001\n",
            "Epoch 23/25:  77%|▊| 156/202 [00:35<00:08,  5.20im2020-08-01 14:06:56,004 train.py[line:353] INFO: Train step_1140: loss : 2336.686279296875,loss xy : 58.81892013549805,loss wh : 4.290613174438477,loss obj : 2207.83984375，loss cls : 65.73680877685547,loss l2 : 97.52122497558594,lr : 0.001\n",
            "Epoch 23/25:  99%|▉| 200/202 [00:43<00:00,  5.38im2020-08-01 14:07:04,603 train.py[line:364] INFO: Checkpoint 23 saved !\n",
            "Epoch 23/25:  99%|▉| 200/202 [00:44<00:00,  4.47im\n",
            "Epoch 24/25:  18%|▏| 36/202 [00:11<00:42,  3.88img2020-08-01 14:07:17,119 train.py[line:353] INFO: Train step_1160: loss : 2715.370361328125,loss xy : 243.47695922851562,loss wh : 28.997398376464844,loss obj : 2149.439697265625，loss cls : 293.4562072753906,loss l2 : 240.6884765625,lr : 0.001\n",
            "Epoch 24/25:  57%|▌| 116/202 [00:27<00:17,  5.01im2020-08-01 14:07:33,330 train.py[line:353] INFO: Train step_1180: loss : 2108.84130859375,loss xy : 93.13383483886719,loss wh : 3.473418951034546,loss obj : 1911.2279052734375，loss cls : 101.00608825683594,loss l2 : 81.54008483886719,lr : 0.001\n",
            "Epoch 24/25:  97%|▉| 196/202 [00:43<00:01,  5.35im2020-08-01 14:07:48,532 train.py[line:353] INFO: Train step_1200: loss : 2015.8778076171875,loss xy : 106.62531280517578,loss wh : 13.298154830932617,loss obj : 1787.380859375，loss cls : 108.57351684570312,loss l2 : 106.97756958007812,lr : 0.001\n",
            "Epoch 24/25:  99%|▉| 200/202 [00:43<00:00,  5.33im2020-08-01 14:07:50,023 train.py[line:364] INFO: Checkpoint 24 saved !\n",
            "Epoch 24/25:  99%|▉| 200/202 [00:45<00:00,  4.40im\n",
            "Epoch 25/25:  38%|▍| 76/202 [00:20<00:26,  4.83img2020-08-01 14:08:10,920 train.py[line:353] INFO: Train step_1220: loss : 2028.4373779296875,loss xy : 151.38131713867188,loss wh : 8.979440689086914,loss obj : 1709.575927734375，loss cls : 158.50076293945312,loss l2 : 112.41451263427734,lr : 0.001\n",
            "Epoch 25/25:  77%|▊| 156/202 [00:35<00:08,  5.34im2020-08-01 14:08:26,558 train.py[line:353] INFO: Train step_1240: loss : 1847.2418212890625,loss xy : 141.8450927734375,loss wh : 2.93265438079834,loss obj : 1583.0313720703125，loss cls : 119.43269348144531,loss l2 : 80.735595703125,lr : 0.001\n",
            "Epoch 25/25:  99%|▉| 200/202 [00:44<00:00,  5.34im2020-08-01 14:08:35,613 train.py[line:364] INFO: Checkpoint 25 saved !\n",
            "Epoch 25/25:  99%|▉| 200/202 [00:45<00:00,  4.39im\n"
          ]
        }
      ],
      "source": [
        "#start training\n",
        "#-b batch size (you should keep this low (2-4) for training to work properly)\n",
        "#-s number of subdivisions in the batch, this was more relevant for the darknet framework\n",
        "#-l learning rate\n",
        "#-g direct training to the GPU device\n",
        "#pretrained invoke the pretrained weights that we downloaded above\n",
        "#classes - number of classes\n",
        "#dir - where the training data is\n",
        "#epoch - how long to train for\n",
        "\n",
        "%cd /content/gdrive/My\\ Drive/colab/pytorch-YOLOv4\n",
        "!python train.py -b 4 -s 1 -l 0.001 -g 0 -pretrained ./yolov4.conv.137.pth -classes {num_classes} -dir ./train -epochs 25"
      ]
    },
    {
      "cell_type": "code",
      "execution_count": null,
      "metadata": {
        "colab": {
          "base_uri": "https://localhost:8080/",
          "height": 1000
        },
        "id": "4Pmo02Q6rbla",
        "outputId": "88f4fb13-9021-4779-d2f9-bde6897a5b3a"
      },
      "outputs": [
        {
          "name": "stdout",
          "output_type": "stream",
          "text": [
            "log file path:log/log_2020-08-01_14-08-51.txt\n",
            "2020-08-01 14:08:52,010 train.py[line:435] INFO: Using device cuda\n",
            "2020-08-01 14:09:03,538 train.py[line:282] INFO: Starting training:\n",
            "        Epochs:          25\n",
            "        Batch size:      4\n",
            "        Subdivisions:    1\n",
            "        Learning rate:   0.001\n",
            "        Training size:   202\n",
            "        Validation size: 58\n",
            "        Checkpoints:     True\n",
            "        Device:          cuda\n",
            "        Images size:     608\n",
            "        Optimizer:       adam\n",
            "        Dataset classes: 12\n",
            "        Train label path:train.txt\n",
            "        Pretrained:\n",
            "    \n",
            "Epoch 1/25:   0%|        | 0/202 [00:00<?, ?img/s]/usr/local/lib/python3.6/dist-packages/torch/nn/_reduction.py:43: UserWarning: size_average and reduce args will be deprecated, please use reduction='sum' instead.\n",
            "  warnings.warn(warning.format(ret))\n",
            "Epoch 1/25:  38%|▍| 76/202 [00:19<00:25,  5.00img//usr/local/lib/python3.6/dist-packages/torch/optim/lr_scheduler.py:224: UserWarning: To get the last learning rate computed by the scheduler, please use `get_last_lr()`.\n",
            "  warnings.warn(\"To get the last learning rate computed by the scheduler, \"\n",
            "2020-08-01 14:09:23,971 train.py[line:353] INFO: Train step_20: loss : 61404.98828125,loss xy : 76.44795227050781,loss wh : 13.251294136047363,loss obj : 61087.5625，loss cls : 227.72581481933594,loss l2 : 21913.91015625,lr : 1.6000000000000002e-10\n",
            "Epoch 1/25:  77%|▊| 156/202 [00:35<00:08,  5.15img2020-08-01 14:09:40,012 train.py[line:353] INFO: Train step_40: loss : 61340.49609375,loss xy : 77.14225006103516,loss wh : 27.479398727416992,loss obj : 61010.015625，loss cls : 225.86099243164062,loss l2 : 21902.349609375,lr : 2.5600000000000003e-09\n",
            "Epoch 1/25:  99%|▉| 200/202 [00:44<00:00,  5.11img2020-08-01 14:09:48,997 train.py[line:364] INFO: Checkpoint 1 saved !\n",
            "Epoch 1/25:  99%|▉| 200/202 [00:45<00:00,  4.40img\n",
            "Epoch 2/25:  18%|▏| 36/202 [00:11<00:43,  3.80img/2020-08-01 14:10:01,589 train.py[line:353] INFO: Train step_60: loss : 61652.1328125,loss xy : 163.33905029296875,loss wh : 39.601505279541016,loss obj : 60962.8203125，loss cls : 486.37255859375,loss l2 : 21998.5546875,lr : 1.2959999999999998e-08\n",
            "Epoch 2/25:  57%|▌| 116/202 [00:27<00:16,  5.16img2020-08-01 14:10:17,529 train.py[line:353] INFO: Train step_80: loss : 62119.87890625,loss xy : 300.79217529296875,loss wh : 54.15721893310547,loss obj : 60863.16015625，loss cls : 901.7677001953125,loss l2 : 22149.890625,lr : 4.0960000000000004e-08\n",
            "Epoch 2/25:  97%|▉| 196/202 [00:43<00:01,  5.22img2020-08-01 14:10:32,791 train.py[line:353] INFO: Train step_100: loss : 61467.0078125,loss xy : 95.98047637939453,loss wh : 9.707929611206055,loss obj : 61071.4453125，loss cls : 289.8740539550781,loss l2 : 21918.05859375,lr : 1.0000000000000002e-07\n",
            "Epoch 2/25:  99%|▉| 200/202 [00:43<00:00,  5.27img2020-08-01 14:10:33,971 train.py[line:364] INFO: Checkpoint 2 saved !\n",
            "Epoch 2/25:  99%|▉| 200/202 [00:44<00:00,  4.45img\n",
            "Epoch 3/25:  38%|▍| 76/202 [00:20<00:26,  4.84img/2020-08-01 14:10:55,033 train.py[line:353] INFO: Train step_120: loss : 61666.75,loss xy : 185.542724609375,loss wh : 38.11373519897461,loss obj : 60899.07421875，loss cls : 544.0211181640625,loss l2 : 22000.685546875,lr : 2.0735999999999997e-07\n",
            "Epoch 3/25:  77%|▊| 156/202 [00:36<00:08,  5.23img2020-08-01 14:11:11,051 train.py[line:353] INFO: Train step_140: loss : 62225.6328125,loss xy : 323.5661926269531,loss wh : 80.62068176269531,loss obj : 60853.02734375，loss cls : 968.4186401367188,loss l2 : 22229.94140625,lr : 3.841600000000001e-07\n",
            "Epoch 3/25:  99%|▉| 200/202 [00:44<00:00,  5.21img2020-08-01 14:11:19,813 train.py[line:364] INFO: Checkpoint 3 saved !\n",
            "Epoch 3/25:  99%|▉| 200/202 [00:45<00:00,  4.36img\n",
            "Epoch 4/25:  18%|▏| 36/202 [00:11<00:43,  3.81img/2020-08-01 14:11:32,155 train.py[line:353] INFO: Train step_160: loss : 61671.48828125,loss xy : 216.61355590820312,loss wh : 64.16968536376953,loss obj : 60749.625，loss cls : 641.079345703125,loss l2 : 22011.81640625,lr : 6.553600000000001e-07\n",
            "Epoch 4/25:  57%|▌| 116/202 [00:27<00:16,  5.11img2020-08-01 14:11:47,821 train.py[line:353] INFO: Train step_180: loss : 61116.1015625,loss xy : 31.189260482788086,loss wh : 15.450065612792969,loss obj : 60977.015625，loss cls : 92.44438171386719,loss l2 : 21807.185546875,lr : 1.0497599999999998e-06\n",
            "Epoch 4/25:  97%|▉| 196/202 [00:42<00:01,  5.36img2020-08-01 14:12:02,832 train.py[line:353] INFO: Train step_200: loss : 61401.0703125,loss xy : 169.01641845703125,loss wh : 26.323654174804688,loss obj : 60698.2734375，loss cls : 507.4552917480469,loss l2 : 21850.623046875,lr : 1.6000000000000004e-06\n",
            "Epoch 4/25:  99%|▉| 200/202 [00:43<00:00,  5.34img2020-08-01 14:12:03,996 train.py[line:364] INFO: Checkpoint 4 saved !\n",
            "Epoch 4/25:  99%|▉| 200/202 [00:44<00:00,  4.53img\n",
            "Epoch 5/25:  38%|▍| 76/202 [00:19<00:25,  4.91img/2020-08-01 14:12:24,609 train.py[line:353] INFO: Train step_220: loss : 60783.37890625,loss xy : 83.3884506225586,loss wh : 8.627528190612793,loss obj : 60441.0234375，loss cls : 250.33811950683594,loss l2 : 21588.2890625,lr : 2.34256e-06\n",
            "Epoch 5/25:  77%|▊| 156/202 [00:35<00:08,  5.25img2020-08-01 14:12:40,425 train.py[line:353] INFO: Train step_240: loss : 60596.7890625,loss xy : 96.95858764648438,loss wh : 8.857029914855957,loss obj : 60203.1015625，loss cls : 287.8714599609375,loss l2 : 21489.138671875,lr : 3.3177599999999996e-06\n",
            "Epoch 5/25:  99%|▉| 200/202 [00:44<00:00,  5.21img2020-08-01 14:12:49,105 train.py[line:364] INFO: Checkpoint 5 saved !\n",
            "Epoch 5/25:  99%|▉| 200/202 [00:45<00:00,  4.43img\n",
            "Epoch 6/25:  18%|▏| 36/202 [00:12<00:46,  3.58img/2020-08-01 14:13:01,883 train.py[line:353] INFO: Train step_260: loss : 60148.42578125,loss xy : 131.0255584716797,loss wh : 18.29732894897461,loss obj : 59611.296875，loss cls : 387.8053894042969,loss l2 : 21250.85546875,lr : 4.569760000000001e-06\n",
            "Epoch 6/25:  57%|▌| 116/202 [00:27<00:16,  5.08img2020-08-01 14:13:17,670 train.py[line:353] INFO: Train step_280: loss : 59776.453125,loss xy : 128.66038513183594,loss wh : 20.63135528564453,loss obj : 59243.86328125，loss cls : 383.298583984375,loss l2 : 21077.296875,lr : 6.146560000000002e-06\n",
            "Epoch 6/25:  97%|▉| 196/202 [00:43<00:01,  5.38img2020-08-01 14:13:33,029 train.py[line:353] INFO: Train step_300: loss : 58977.234375,loss xy : 148.9226837158203,loss wh : 22.02859115600586,loss obj : 58375.59375，loss cls : 430.688720703125,loss l2 : 20669.228515625,lr : 8.1e-06\n",
            "Epoch 6/25:  99%|▉| 200/202 [00:43<00:00,  5.37img2020-08-01 14:13:34,192 train.py[line:364] INFO: Checkpoint 6 saved !\n",
            "Epoch 6/25:  99%|▉| 200/202 [00:45<00:00,  4.44img\n",
            "Epoch 7/25:  38%|▍| 76/202 [00:20<00:24,  5.06img/2020-08-01 14:13:55,367 train.py[line:353] INFO: Train step_320: loss : 57617.82421875,loss xy : 97.95281982421875,loss wh : 8.377952575683594,loss obj : 57228.90625，loss cls : 282.58721923828125,loss l2 : 20020.1015625,lr : 1.0485760000000001e-05\n",
            "Epoch 7/25:  77%|▊| 156/202 [00:36<00:08,  5.19img2020-08-01 14:14:10,949 train.py[line:353] INFO: Train step_340: loss : 56177.66796875,loss xy : 102.50141906738281,loss wh : 7.8846845626831055,loss obj : 55773.75，loss cls : 293.5325622558594,loss l2 : 19313.337890625,lr : 1.3363360000000005e-05\n",
            "Epoch 7/25:  99%|▉| 200/202 [00:44<00:00,  5.36img2020-08-01 14:14:19,649 train.py[line:364] INFO: Checkpoint 7 saved !\n",
            "Epoch 7/25:  99%|▉| 200/202 [00:45<00:00,  4.40img\n",
            "Epoch 8/25:  18%|▏| 36/202 [00:12<00:45,  3.64img/2020-08-01 14:14:32,720 train.py[line:353] INFO: Train step_360: loss : 53529.90234375,loss xy : 127.42916107177734,loss wh : 14.42945671081543,loss obj : 53037.4140625，loss cls : 350.6287536621094,loss l2 : 18032.255859375,lr : 1.6796159999999997e-05\n",
            "Epoch 8/25:  57%|▌| 116/202 [00:28<00:17,  4.98img2020-08-01 14:14:48,810 train.py[line:353] INFO: Train step_380: loss : 52505.95703125,loss xy : 288.0877990722656,loss wh : 52.48255157470703,loss obj : 51337.8671875，loss cls : 827.5213012695312,loss l2 : 17474.53515625,lr : 2.085136e-05\n",
            "Epoch 8/25:  97%|▉| 196/202 [00:43<00:01,  5.28img2020-08-01 14:15:04,138 train.py[line:353] INFO: Train step_400: loss : 49164.4453125,loss xy : 139.79066467285156,loss wh : 23.033374786376953,loss obj : 48633.4609375，loss cls : 368.1605224609375,loss l2 : 15991.453125,lr : 2.5600000000000006e-05\n",
            "Epoch 8/25:  99%|▉| 200/202 [00:44<00:00,  5.26img2020-08-01 14:15:05,291 train.py[line:364] INFO: Checkpoint 8 saved !\n",
            "Epoch 8/25:  99%|▉| 200/202 [00:45<00:00,  4.38img\n",
            "Epoch 9/25:  38%|▍| 76/202 [00:20<00:25,  4.97img/2020-08-01 14:15:26,873 train.py[line:353] INFO: Train step_420: loss : 48673.21875,loss xy : 110.12612915039062,loss wh : 7.7915568351745605,loss obj : 48258.21875，loss cls : 297.08209228515625,loss l2 : 15716.240234375,lr : 3.111696e-05\n",
            "Epoch 9/25:  77%|▊| 156/202 [00:36<00:08,  5.24img2020-08-01 14:15:42,592 train.py[line:353] INFO: Train step_440: loss : 45188.1953125,loss xy : 124.7872085571289,loss wh : 19.72541618347168,loss obj : 44732.546875，loss cls : 311.1353759765625,loss l2 : 14114.9951171875,lr : 3.748096e-05\n",
            "Epoch 9/25:  99%|▉| 200/202 [00:44<00:00,  5.34img2020-08-01 14:15:51,192 train.py[line:364] INFO: Checkpoint 9 saved !\n",
            "Epoch 9/25:  99%|▉| 200/202 [00:45<00:00,  4.36img\n",
            "Epoch 10/25:  18%|▏| 36/202 [00:12<00:43,  3.78img2020-08-01 14:16:04,060 train.py[line:353] INFO: Train step_460: loss : 41839.19921875,loss xy : 89.10806274414062,loss wh : 7.475087642669678,loss obj : 41528.0，loss cls : 214.61807250976562,loss l2 : 12586.8017578125,lr : 4.477456000000001e-05\n",
            "Epoch 10/25:  57%|▌| 116/202 [00:28<00:17,  4.85im2020-08-01 14:16:20,405 train.py[line:353] INFO: Train step_480: loss : 39976.53125,loss xy : 276.030029296875,loss wh : 30.93922996520996,loss obj : 38976.9296875，loss cls : 692.6318359375,loss l2 : 11661.05078125,lr : 5.308415999999999e-05\n",
            "Epoch 10/25:  97%|▉| 196/202 [00:43<00:01,  5.36im2020-08-01 14:16:35,542 train.py[line:353] INFO: Train step_500: loss : 35872.08984375,loss xy : 46.98320388793945,loss wh : 3.7076258659362793,loss obj : 35713.2734375，loss cls : 108.12517547607422,loss l2 : 9939.47265625,lr : 6.25e-05\n",
            "Epoch 10/25:  99%|▉| 200/202 [00:44<00:00,  5.40im2020-08-01 14:16:36,675 train.py[line:364] INFO: Checkpoint 10 saved !\n",
            "Epoch 10/25:  99%|▉| 200/202 [00:45<00:00,  4.40im\n",
            "Epoch 11/25:  38%|▍| 76/202 [00:20<00:25,  5.01img2020-08-01 14:16:57,652 train.py[line:353] INFO: Train step_520: loss : 33644.21875,loss xy : 90.38682556152344,loss wh : 29.271411895751953,loss obj : 33305.84375，loss cls : 218.71360778808594,loss l2 : 8999.916015625,lr : 7.311616000000002e-05\n",
            "Epoch 11/25:  77%|▊| 156/202 [00:36<00:08,  5.19im2020-08-01 14:17:13,740 train.py[line:353] INFO: Train step_540: loss : 30970.712890625,loss xy : 173.7422637939453,loss wh : 12.77263069152832,loss obj : 30397.375，loss cls : 386.82183837890625,loss l2 : 7811.6728515625,lr : 8.503056000000002e-05\n",
            "Epoch 11/25:  99%|▉| 200/202 [00:44<00:00,  5.31im2020-08-01 14:17:22,614 train.py[line:364] INFO: Checkpoint 11 saved !\n",
            "Epoch 11/25:  99%|▉| 200/202 [00:45<00:00,  4.35im\n",
            "Epoch 12/25:  18%|▏| 36/202 [00:13<00:47,  3.51img2020-08-01 14:17:36,887 train.py[line:353] INFO: Train step_560: loss : 29033.9453125,loss xy : 114.06590270996094,loss wh : 54.952980041503906,loss obj : 28609.099609375，loss cls : 255.8268280029297,loss l2 : 7106.34228515625,lr : 9.834496000000003e-05\n",
            "Epoch 12/25:  57%|▌| 116/202 [00:29<00:17,  4.99im2020-08-01 14:17:52,751 train.py[line:353] INFO: Train step_580: loss : 27599.61328125,loss xy : 179.07473754882812,loss wh : 10.040321350097656,loss obj : 27050.384765625，loss cls : 360.114013671875,loss l2 : 6449.837890625,lr : 0.00011316495999999998\n",
            "Epoch 12/25:  97%|▉| 196/202 [00:44<00:01,  5.16im2020-08-01 14:18:08,138 train.py[line:353] INFO: Train step_600: loss : 25311.234375,loss xy : 153.8271026611328,loss wh : 23.408428192138672,loss obj : 24850.76171875，loss cls : 283.23565673828125,loss l2 : 5579.50830078125,lr : 0.0001296\n",
            "Epoch 12/25:  99%|▉| 200/202 [00:45<00:00,  5.18im2020-08-01 14:18:09,296 train.py[line:364] INFO: Checkpoint 12 saved !\n",
            "Epoch 12/25:  99%|▉| 200/202 [00:46<00:00,  4.28im\n",
            "Epoch 13/25:  38%|▍| 76/202 [00:20<00:25,  4.86img2020-08-01 14:18:30,577 train.py[line:353] INFO: Train step_620: loss : 24046.0078125,loss xy : 171.87698364257812,loss wh : 20.200897216796875,loss obj : 23522.9375，loss cls : 330.99176025390625,loss l2 : 5107.9501953125,lr : 0.00014776335999999997\n",
            "Epoch 13/25:  77%|▊| 156/202 [00:36<00:08,  5.27im2020-08-01 14:18:46,293 train.py[line:353] INFO: Train step_640: loss : 22295.90234375,loss xy : 93.58457946777344,loss wh : 7.213885307312012,loss obj : 22025.669921875，loss cls : 169.4326934814453,loss l2 : 4468.20458984375,lr : 0.00016777216000000002\n",
            "Epoch 13/25:  99%|▉| 200/202 [00:44<00:00,  5.27im2020-08-01 14:18:55,161 train.py[line:364] INFO: Checkpoint 13 saved !\n",
            "Epoch 13/25:  99%|▉| 200/202 [00:45<00:00,  4.36im\n",
            "Epoch 14/25:  18%|▏| 36/202 [00:11<00:44,  3.73img2020-08-01 14:19:07,748 train.py[line:353] INFO: Train step_660: loss : 21265.130859375,loss xy : 171.94471740722656,loss wh : 11.65644645690918,loss obj : 20813.041015625，loss cls : 268.4881286621094,loss l2 : 4114.44189453125,lr : 0.00018974736000000004\n",
            "Epoch 14/25:  57%|▌| 116/202 [00:27<00:16,  5.18im2020-08-01 14:19:23,555 train.py[line:353] INFO: Train step_680: loss : 20105.4296875,loss xy : 137.09225463867188,loss wh : 17.61907196044922,loss obj : 19714.09765625，loss cls : 236.6212158203125,loss l2 : 3741.83203125,lr : 0.0002138137600000001\n",
            "Epoch 14/25:  97%|▉| 196/202 [00:42<00:01,  5.27im2020-08-01 14:19:38,888 train.py[line:353] INFO: Train step_700: loss : 18561.03515625,loss xy : 118.18685913085938,loss wh : 5.260376930236816,loss obj : 18262.560546875，loss cls : 175.02809143066406,loss l2 : 3232.528076171875,lr : 0.00024009999999999995\n",
            "Epoch 14/25:  99%|▉| 200/202 [00:43<00:00,  5.27im2020-08-01 14:19:40,051 train.py[line:364] INFO: Checkpoint 14 saved !\n",
            "Epoch 14/25:  99%|▉| 200/202 [00:44<00:00,  4.46im\n",
            "Epoch 15/25:  38%|▍| 76/202 [00:19<00:26,  4.75img2020-08-01 14:20:00,889 train.py[line:353] INFO: Train step_720: loss : 17580.134765625,loss xy : 120.26517486572266,loss wh : 12.782337188720703,loss obj : 17251.55859375，loss cls : 195.52845764160156,loss l2 : 2957.4091796875,lr : 0.00026873855999999996\n",
            "Epoch 15/25:  77%|▊| 156/202 [00:35<00:08,  5.24im2020-08-01 14:20:16,650 train.py[line:353] INFO: Train step_740: loss : 16207.2060546875,loss xy : 114.7578353881836,loss wh : 12.105310440063477,loss obj : 15900.72265625，loss cls : 179.62051391601562,loss l2 : 2560.5693359375,lr : 0.00029986575999999996\n",
            "Epoch 15/25:  99%|▉| 200/202 [00:44<00:00,  5.29im2020-08-01 14:20:25,335 train.py[line:364] INFO: Checkpoint 15 saved !\n",
            "Epoch 15/25:  99%|▉| 200/202 [00:45<00:00,  4.42im\n",
            "Epoch 16/25:  18%|▏| 36/202 [00:11<00:43,  3.85img2020-08-01 14:20:37,753 train.py[line:353] INFO: Train step_760: loss : 15510.1123046875,loss xy : 200.6507110595703,loss wh : 19.47043800354004,loss obj : 14979.3525390625，loss cls : 310.6385192871094,loss l2 : 2371.7958984375,lr : 0.00033362176\n",
            "Epoch 16/25:  57%|▌| 116/202 [00:27<00:16,  5.14im2020-08-01 14:20:53,762 train.py[line:353] INFO: Train step_780: loss : 14110.02734375,loss xy : 149.8717803955078,loss wh : 12.86815071105957,loss obj : 13722.1767578125，loss cls : 225.11068725585938,loss l2 : 2007.140380859375,lr : 0.00037015056000000006\n",
            "Epoch 16/25:  97%|▉| 196/202 [00:43<00:01,  5.20im2020-08-01 14:21:09,157 train.py[line:353] INFO: Train step_800: loss : 12515.5419921875,loss xy : 67.68899536132812,loss wh : 2.4114677906036377,loss obj : 12354.9072265625，loss cls : 90.53402709960938,loss l2 : 1594.7169189453125,lr : 0.0004096000000000001\n",
            "Epoch 16/25:  99%|▉| 200/202 [00:43<00:00,  5.24im2020-08-01 14:21:10,323 train.py[line:364] INFO: Checkpoint 16 saved !\n",
            "Epoch 16/25:  99%|▉| 200/202 [00:44<00:00,  4.45im\n",
            "Epoch 17/25:  38%|▍| 76/202 [00:19<00:25,  4.95img2020-08-01 14:21:30,740 train.py[line:353] INFO: Train step_820: loss : 11279.0087890625,loss xy : 30.22722625732422,loss wh : 3.4739720821380615,loss obj : 11203.828125，loss cls : 41.47986602783203,loss l2 : 1322.1173095703125,lr : 0.0004521217599999999\n",
            "Epoch 17/25:  77%|▊| 156/202 [00:35<00:08,  5.30im2020-08-01 14:21:46,623 train.py[line:353] INFO: Train step_840: loss : 10579.6552734375,loss xy : 153.76849365234375,loss wh : 6.877758026123047,loss obj : 10214.79296875，loss cls : 204.21583557128906,loss l2 : 1184.8182373046875,lr : 0.00049787136\n",
            "Epoch 17/25:  99%|▉| 200/202 [00:43<00:00,  5.32im2020-08-01 14:21:55,244 train.py[line:364] INFO: Checkpoint 17 saved !\n",
            "Epoch 17/25:  99%|▉| 200/202 [00:44<00:00,  4.45im\n",
            "Epoch 18/25:  18%|▏| 36/202 [00:11<00:42,  3.90img2020-08-01 14:22:07,527 train.py[line:353] INFO: Train step_860: loss : 9779.1484375,loss xy : 174.88375854492188,loss wh : 16.328201293945312,loss obj : 9348.8212890625，loss cls : 239.11566162109375,loss l2 : 1052.8194580078125,lr : 0.00054700816\n",
            "Epoch 18/25:  57%|▌| 116/202 [00:27<00:17,  5.03im2020-08-01 14:22:23,380 train.py[line:353] INFO: Train step_880: loss : 8786.125,loss xy : 105.55701446533203,loss wh : 4.345457077026367,loss obj : 8537.66796875，loss cls : 138.5545196533203,loss l2 : 844.3528442382812,lr : 0.00059969536\n",
            "Epoch 18/25:  97%|▉| 196/202 [00:42<00:01,  5.29im2020-08-01 14:22:38,553 train.py[line:353] INFO: Train step_900: loss : 7934.64501953125,loss xy : 116.73792266845703,loss wh : 5.674193382263184,loss obj : 7659.3017578125，loss cls : 152.93136596679688,loss l2 : 707.5509643554688,lr : 0.0006561000000000001\n",
            "Epoch 18/25:  99%|▉| 200/202 [00:43<00:00,  5.30im2020-08-01 14:22:39,681 train.py[line:364] INFO: Checkpoint 18 saved !\n",
            "Epoch 18/25:  99%|▉| 200/202 [00:44<00:00,  4.50im\n",
            "Epoch 19/25:  38%|▍| 76/202 [00:19<00:25,  4.96img2020-08-01 14:23:00,364 train.py[line:353] INFO: Train step_920: loss : 7194.796875,loss xy : 112.5723648071289,loss wh : 11.973283767700195,loss obj : 6907.919921875，loss cls : 162.3317108154297,loss l2 : 601.55322265625,lr : 0.0007163929600000001\n",
            "Epoch 19/25:  77%|▊| 156/202 [00:35<00:08,  5.25im2020-08-01 14:23:16,168 train.py[line:353] INFO: Train step_940: loss : 6450.70947265625,loss xy : 122.44949340820312,loss wh : 5.821357250213623,loss obj : 6160.43017578125，loss cls : 162.00830078125,loss l2 : 500.51715087890625,lr : 0.0007807489599999998\n",
            "Epoch 19/25:  99%|▉| 200/202 [00:43<00:00,  5.33im2020-08-01 14:23:24,808 train.py[line:364] INFO: Checkpoint 19 saved !\n",
            "Epoch 19/25:  99%|▉| 200/202 [00:45<00:00,  4.43im\n",
            "Epoch 20/25:  18%|▏| 36/202 [00:11<00:46,  3.58img2020-08-01 14:23:37,575 train.py[line:353] INFO: Train step_960: loss : 5876.6083984375,loss xy : 165.90713500976562,loss wh : 23.493854522705078,loss obj : 5478.2724609375，loss cls : 208.93502807617188,loss l2 : 456.18170166015625,lr : 0.0008493465599999999\n",
            "Epoch 20/25:  57%|▌| 116/202 [00:28<00:17,  4.91im2020-08-01 14:23:53,638 train.py[line:353] INFO: Train step_980: loss : 4968.03466796875,loss xy : 49.80828094482422,loss wh : 10.90211296081543,loss obj : 4835.25341796875，loss cls : 72.07075500488281,loss l2 : 310.3832092285156,lr : 0.0009223681599999999\n",
            "Epoch 20/25:  97%|▉| 196/202 [00:43<00:01,  5.35im2020-08-01 14:24:08,672 train.py[line:353] INFO: Train step_1000: loss : 4549.296875,loss xy : 109.163818359375,loss wh : 4.317083358764648,loss obj : 4297.26611328125，loss cls : 138.55003356933594,loss l2 : 271.4647521972656,lr : 0.001\n",
            "Epoch 20/25:  99%|▉| 200/202 [00:43<00:00,  5.30im2020-08-01 14:24:09,945 train.py[line:364] INFO: Checkpoint 20 saved !\n",
            "Epoch 20/25:  99%|▉| 200/202 [00:45<00:00,  4.43im\n",
            "Epoch 21/25:  38%|▍| 76/202 [00:20<00:25,  4.92img2020-08-01 14:24:31,648 train.py[line:353] INFO: Train step_1020: loss : 3874.009033203125,loss xy : 28.951772689819336,loss wh : 0.9441331624984741,loss obj : 3801.497314453125，loss cls : 42.61570739746094,loss l2 : 179.5290985107422,lr : 0.001\n",
            "Epoch 21/25:  77%|▊| 156/202 [00:36<00:08,  5.21im2020-08-01 14:24:47,470 train.py[line:353] INFO: Train step_1040: loss : 3661.269287109375,loss xy : 85.0986099243164,loss wh : 11.65569019317627,loss obj : 3453.598388671875，loss cls : 110.91661071777344,loss l2 : 201.89442443847656,lr : 0.001\n",
            "Epoch 21/25:  99%|▉| 200/202 [00:44<00:00,  5.35im2020-08-01 14:24:56,140 train.py[line:364] INFO: Checkpoint 21 saved !\n",
            "Epoch 21/25:  99%|▉| 200/202 [00:46<00:00,  4.33im\n",
            "Epoch 22/25:  18%|▏| 36/202 [00:11<00:44,  3.70img2020-08-01 14:25:08,910 train.py[line:353] INFO: Train step_1060: loss : 3446.131103515625,loss xy : 125.2251205444336,loss wh : 5.892858028411865,loss obj : 3154.027587890625，loss cls : 160.98561096191406,loss l2 : 185.5699005126953,lr : 0.001\n",
            "Epoch 22/25:  57%|▌| 116/202 [00:28<00:17,  5.03im2020-08-01 14:25:25,230 train.py[line:353] INFO: Train step_1080: loss : 3107.398193359375,loss xy : 90.70402526855469,loss wh : 30.674911499023438,loss obj : 2878.614990234375，loss cls : 107.4041976928711,loss l2 : 199.46954345703125,lr : 0.001\n",
            "Epoch 22/25:  97%|▉| 196/202 [00:43<00:01,  5.32im2020-08-01 14:25:40,525 train.py[line:353] INFO: Train step_1100: loss : 2776.208984375,loss xy : 71.13296508789062,loss wh : 5.430727005004883,loss obj : 2612.257080078125，loss cls : 87.38811492919922,loss l2 : 125.52047729492188,lr : 0.001\n",
            "Epoch 22/25:  99%|▉| 200/202 [00:44<00:00,  5.33im2020-08-01 14:25:41,689 train.py[line:364] INFO: Checkpoint 22 saved !\n",
            "Epoch 22/25:  99%|▉| 200/202 [00:45<00:00,  4.39im\n",
            "Epoch 23/25:  38%|▍| 76/202 [00:19<00:25,  4.89img2020-08-01 14:26:02,504 train.py[line:353] INFO: Train step_1120: loss : 2686.337158203125,loss xy : 105.99285888671875,loss wh : 8.778883934020996,loss obj : 2447.396240234375，loss cls : 124.16917419433594,loss l2 : 141.10751342773438,lr : 0.001\n",
            "Epoch 23/25:  77%|▊| 156/202 [00:35<00:08,  5.28im2020-08-01 14:26:18,150 train.py[line:353] INFO: Train step_1140: loss : 2455.78564453125,loss xy : 70.25055694580078,loss wh : 20.973133087158203,loss obj : 2274.27880859375，loss cls : 90.28312683105469,loss l2 : 142.9496612548828,lr : 0.001\n",
            "Epoch 23/25:  99%|▉| 200/202 [00:43<00:00,  5.33im2020-08-01 14:26:26,809 train.py[line:364] INFO: Checkpoint 23 saved !\n",
            "Epoch 23/25:  99%|▉| 200/202 [00:45<00:00,  4.43im\n",
            "Epoch 24/25:  18%|▏| 36/202 [00:11<00:44,  3.72img2020-08-01 14:26:39,349 train.py[line:353] INFO: Train step_1160: loss : 2386.37109375,loss xy : 109.55172729492188,loss wh : 7.019173622131348,loss obj : 2136.979736328125，loss cls : 132.82052612304688,loss l2 : 123.89451599121094,lr : 0.001\n",
            "Epoch 24/25:  57%|▌| 116/202 [00:28<00:17,  4.86im2020-08-01 14:26:55,582 train.py[line:353] INFO: Train step_1180: loss : 1977.0423583984375,loss xy : 33.88996124267578,loss wh : 1.1118347644805908,loss obj : 1907.5621337890625，loss cls : 34.478389739990234,loss l2 : 55.859432220458984,lr : 0.001\n",
            "Epoch 24/25:  97%|▉| 196/202 [00:43<00:01,  5.29im2020-08-01 14:27:10,815 train.py[line:353] INFO: Train step_1200: loss : 2228.54345703125,loss xy : 161.7434539794922,loss wh : 29.513038635253906,loss obj : 1888.652587890625，loss cls : 148.63421630859375,loss l2 : 167.53504943847656,lr : 0.001\n",
            "Epoch 24/25:  99%|▉| 200/202 [00:44<00:00,  5.26im2020-08-01 14:27:11,923 train.py[line:364] INFO: Checkpoint 24 saved !\n",
            "Epoch 24/25:  99%|▉| 200/202 [00:45<00:00,  4.43im\n",
            "Epoch 25/25:  38%|▍| 76/202 [00:19<00:24,  5.06img2020-08-01 14:27:32,341 train.py[line:353] INFO: Train step_1220: loss : 2021.5252685546875,loss xy : 137.87429809570312,loss wh : 15.14295768737793,loss obj : 1745.7608642578125，loss cls : 122.74723815917969,loss l2 : 121.92375946044922,lr : 0.001\n",
            "Epoch 25/25:  77%|▊| 156/202 [00:35<00:08,  5.35im2020-08-01 14:27:48,019 train.py[line:353] INFO: Train step_1240: loss : 1806.0650634765625,loss xy : 78.32456970214844,loss wh : 14.409221649169922,loss obj : 1634.4033203125，loss cls : 78.92803192138672,loss l2 : 97.90937042236328,lr : 0.001\n",
            "Epoch 25/25:  99%|▉| 200/202 [00:43<00:00,  5.29im2020-08-01 14:27:56,707 train.py[line:364] INFO: Checkpoint 25 saved !\n",
            "Epoch 25/25:  99%|▉| 200/202 [00:44<00:00,  4.47im\n"
          ]
        }
      ],
      "source": [
        "# continue training from the checkpoints\n",
        "!python train.py -b 4 -s 1 -l 0.001 -g 0 -pretrained ./checkpoints/Yolov4_epoch1.pth -classes {num_classes} -dir ./train -epochs 25"
      ]
    },
    {
      "cell_type": "markdown",
      "metadata": {
        "id": "CeIBxTZLtiNe"
      },
      "source": [
        "# Step 07. Test the results"
      ]
    },
    {
      "cell_type": "code",
      "execution_count": null,
      "metadata": {
        "colab": {
          "base_uri": "https://localhost:8080/",
          "height": 136
        },
        "id": "4ekfZWXYoq6Z",
        "outputId": "ab26ce1f-58cf-4506-fa78-9dbb18e882a3"
      },
      "outputs": [
        {
          "name": "stdout",
          "output_type": "stream",
          "text": [
            "Yolov4_epoch10.pth  Yolov4_epoch17.pth\tYolov4_epoch23.pth  Yolov4_epoch6.pth\n",
            "Yolov4_epoch11.pth  Yolov4_epoch18.pth\tYolov4_epoch24.pth  Yolov4_epoch7.pth\n",
            "Yolov4_epoch12.pth  Yolov4_epoch19.pth\tYolov4_epoch25.pth  Yolov4_epoch8.pth\n",
            "Yolov4_epoch13.pth  Yolov4_epoch1.pth\tYolov4_epoch2.pth   Yolov4_epoch9.pth\n",
            "Yolov4_epoch14.pth  Yolov4_epoch20.pth\tYolov4_epoch3.pth\n",
            "Yolov4_epoch15.pth  Yolov4_epoch21.pth\tYolov4_epoch4.pth\n",
            "Yolov4_epoch16.pth  Yolov4_epoch22.pth\tYolov4_epoch5.pth\n"
          ]
        }
      ],
      "source": [
        "# Check the trained weights\n",
        "\n",
        "!ls checkpoints\n"
      ]
    },
    {
      "cell_type": "code",
      "execution_count": null,
      "metadata": {
        "colab": {
          "base_uri": "https://localhost:8080/",
          "height": 34
        },
        "id": "RW6wTm8uo7i5",
        "outputId": "eff79d49-f4ce-45e9-8c39-c1910acff54f"
      },
      "outputs": [
        {
          "name": "stdout",
          "output_type": "stream",
          "text": [
            "test/e4147f3d8819fc5d67a9f72596bd9e47_jpg.rf.61c071896199b2723723ba615ce57cb2.jpg\n"
          ]
        }
      ],
      "source": [
        "# Choose random test image\n",
        "\n",
        "import os\n",
        "test_images = [f for f in os.listdir('test') if f.endswith('.jpg')]\n",
        "import random\n",
        "img_path = \"test/\" + random.choice(test_images);\n",
        "\n",
        "print(img_path)\n"
      ]
    },
    {
      "cell_type": "code",
      "execution_count": null,
      "metadata": {
        "colab": {
          "base_uri": "https://localhost:8080/",
          "height": 841
        },
        "id": "bCj463XZpsS8",
        "outputId": "a0357be3-3a1b-44f6-e18d-92cb40067fc1"
      },
      "outputs": [
        {
          "name": "stdout",
          "output_type": "stream",
          "text": [
            "-----------------------------------\n",
            "           Preprocess : 0.003834\n",
            "      Model Inference : 0.099189\n",
            "-----------------------------------\n",
            "-----------------------------------\n",
            "       max and argmax : 0.002377\n",
            "                  nms : 0.000630\n",
            "Post processing total : 0.003007\n",
            "-----------------------------------\n",
            "black-pawn: 0.991121\n",
            "black-pawn: 0.979732\n",
            "black-pawn: 0.967096\n",
            "black-pawn: 0.957243\n",
            "black-pawn: 0.933032\n",
            "black-pawn: 0.910862\n",
            "black-pawn: 0.528641\n",
            "white-pawn: 0.985034\n",
            "white-pawn: 0.974079\n",
            "white-pawn: 0.945919\n",
            "white-pawn: 0.940389\n",
            "white-pawn: 0.929887\n",
            "white-pawn: 0.903731\n",
            "white-pawn: 0.673184\n",
            "save plot results to predictions.jpg\n"
          ]
        },
        {
          "data": {
            "image/jpeg": "[encoded data removed]",
            "text/plain": [
              "<IPython.core.display.Image object>"
            ]
          },
          "execution_count": 51,
          "metadata": {
            "tags": []
          },
          "output_type": "execute_result"
        }
      ],
      "source": [
        "# Run test for a random image using a chosen checkpoints and visualization the result\n",
        "w = int(608)\n",
        "!python models.py {num_classes} checkpoints/Yolov4_epoch25.pth {img_path} {w} {w} test/_classes.txt\n",
        "\n",
        "from IPython.display import Image\n",
        "Image('predictions.jpg')"
      ]
    },
    {
      "cell_type": "code",
      "execution_count": null,
      "metadata": {
        "colab": {
          "base_uri": "https://localhost:8080/",
          "height": 34
        },
        "id": "50lyyG8EAqZe",
        "outputId": "9e933f2c-63e7-47a9-a3a7-f9d88ec90e63"
      },
      "outputs": [
        {
          "name": "stdout",
          "output_type": "stream",
          "text": [
            "/content/gdrive/My Drive/colab/pytorch-YOLOv4\n"
          ]
        }
      ],
      "source": [
        "!pwd"
      ]
    },
    {
      "cell_type": "code",
      "execution_count": null,
      "metadata": {
        "colab": {
          "base_uri": "https://localhost:8080/",
          "height": 34
        },
        "id": "0H-Zd2yl_GkL",
        "outputId": "7ef023b8-8cef-4135-db04-a0761659cfff"
      },
      "outputs": [
        {
          "data": {
            "text/plain": [
              "12"
            ]
          },
          "execution_count": 13,
          "metadata": {
            "tags": []
          },
          "output_type": "execute_result"
        }
      ],
      "source": [
        "num_classes"
      ]
    }
  ],
  "metadata": {
    "accelerator": "GPU",
    "colab": {
      "provenance": []
    },
    "kernelspec": {
      "display_name": "Python 3",
      "name": "python3"
    }
  },
  "nbformat": 4,
  "nbformat_minor": 0
}
